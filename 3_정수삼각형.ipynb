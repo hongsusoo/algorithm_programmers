{
 "cells": [
  {
   "cell_type": "code",
   "execution_count": 181,
   "metadata": {},
   "outputs": [],
   "source": [
    "#최종 제출\n",
    "\n",
    "from collections import deque\n",
    "def solution(triangle):\n",
    "    l=len(triangle)\n",
    "    move=[0,1]\n",
    "    dp=[[-1]*i for i in range(1,l+1)]\n",
    "    dp[0][0]=triangle[0][0] #sum\n",
    "    x,y=0,0\n",
    "    q=deque()\n",
    "    q.append((x,y))\n",
    "    while q:\n",
    "        x,y=q.popleft()\n",
    "        dx=x+1\n",
    "        if dx >=l: continue\n",
    "        for i in move:\n",
    "            dy=y+i\n",
    "            s=dp[x][y]+triangle[dx][dy]\n",
    "            if dp[dx][dy] >= s: continue\n",
    "            else : dp[dx][dy] = s\n",
    "            q.append((dx,dy))\n",
    "            if -1 not in dp[l-1]:\n",
    "                return max(dp[l-1])"
   ]
  },
  {
   "cell_type": "code",
   "execution_count": 180,
   "metadata": {
    "scrolled": true
   },
   "outputs": [],
   "source": [
    "#다른 사람 풀이\n",
    "# solution = lambda t, l = []: max(l) if not t else solution(t[1:], [max(x,y)+z for x,y,z in zip([0]+l, l+[0], t[0])])\n",
    "\n",
    "def solution(t,l=[]):\n",
    "#     print(l)\n",
    "#     print(not t)\n",
    "    \n",
    "    \n",
    "    if not t: \n",
    "#         print(max(l))\n",
    "        return max(l)\n",
    "    else :solution(t[1:],[max(x,y)+z for x,y,z in zip([0]+l, l+[0], t[0])])\n",
    "    \n",
    "triangle=[[7], [3, 8], [8, 1, 0], [2, 7, 4, 4], [4, 5, 2, 6, 5]]\n",
    "\n",
    "solution(triangle)"
   ]
  },
  {
   "cell_type": "code",
   "execution_count": null,
   "metadata": {},
   "outputs": [],
   "source": []
  },
  {
   "cell_type": "code",
   "execution_count": 76,
   "metadata": {},
   "outputs": [
    {
     "name": "stdout",
     "output_type": "stream",
     "text": [
      "30\n"
     ]
    }
   ],
   "source": [
    "triangle=[[7], [3, 8], [8, 1, 0], [2, 7, 4, 4], [4, 5, 2, 6, 5]]\n",
    "\n",
    "\n",
    "def solution(triangle):\n",
    "    from collections import deque\n",
    "    q=deque()\n",
    "    l=len(triangle)\n",
    "    move=[0,1]\n",
    "    sum_=triangle[0][0] #sum\n",
    "    path=[0 for _ in range(l)]\n",
    "    path[0]=triangle[0][0]\n",
    "    x=0\n",
    "    y=0\n",
    "    q.append((-sum_,sum_,path,x,y))\n",
    "    dp=[[-1]*i for i in range(1,l+1)]\n",
    "    dp[0][0]=triangle[0][0]\n",
    "    b=set()\n",
    "    while q:\n",
    "        ms,s,p,x,y=q.popleft()\n",
    "        path=str(p)\n",
    "        if path in b:\n",
    "            continue\n",
    "        b.add((path))\n",
    "        #아래로 이동하기\n",
    "        for i in move:\n",
    "            dx,dy=x+1,y+i\n",
    "            if dx>=l:\n",
    "                continue\n",
    "            s=dp[x][y]+triangle[dx][dy]\n",
    "            if dp[dx][dy]<s:\n",
    "                dp[dx][dy] = s\n",
    "            p[dx]=triangle[dx][dy]\n",
    "            temp=[i for i in p]\n",
    "            q.append((-s,s,temp,dx,dy))\n",
    "            \n",
    "    return max(dp[l-1])\n",
    "print(solution(triangle))"
   ]
  },
  {
   "cell_type": "code",
   "execution_count": null,
   "metadata": {},
   "outputs": [],
   "source": [
    "triangle=[[7], [3, 8], [8, 1, 0], [2, 7, 4, 4], [4, 5, 2, 6, 5]]\n",
    "\n",
    "\n",
    "def solution(triangle):\n",
    "    from collections import deque\n",
    "    import copy\n",
    "    q=deque()\n",
    "    l=len(triangle)\n",
    "    move=[0,1]\n",
    "    sum_=triangle[0][0] #sum\n",
    "    path=[0 for _ in range(l)]\n",
    "    path[0]=triangle[0][0]\n",
    "    x=0\n",
    "    y=0\n",
    "    q.append((-sum_,sum_,path,x,y))\n",
    "    dp=[[-1]*i for i in range(1,l+1)]\n",
    "    dp[0][0]=triangle[0][0]\n",
    "    b=set()\n",
    "    while q:\n",
    "        ms,s,p,x,y=q.popleft()\n",
    "        #아래로 이동하기\n",
    "        for i in move:\n",
    "            dx,dy=x+1,y+i\n",
    "            if not dx>=l:\n",
    "                s=dp[x][y]+triangle[dx][dy]\n",
    "                if dp[dx][dy]<s:\n",
    "                    dp[dx][dy] = s\n",
    "                p[dx]=triangle[dx][dy]\n",
    "                temp=copy.deepcopy(p)\n",
    "                q.append((-s,s,temp,dx,dy))\n",
    "    return max(dp[l-1])\n",
    "\n",
    "print(solution(triangle))"
   ]
  },
  {
   "cell_type": "code",
   "execution_count": 125,
   "metadata": {},
   "outputs": [
    {
     "name": "stdout",
     "output_type": "stream",
     "text": [
      "30\n"
     ]
    }
   ],
   "source": [
    "triangle=[[7], [3, 8], [8, 1, 0], [2, 7, 4, 4], [4, 5, 2, 6, 5]]\n",
    "\n",
    "\n",
    "def solution(triangle):\n",
    "    from collections import deque\n",
    "\n",
    "    l=len(triangle[-1])\n",
    "    move=[0,1]\n",
    "    dp=[[-1]*i for i in range(1,l+1)]\n",
    "    d=triangle[0][0] #sum\n",
    "    x,y=0,0\n",
    "    q=deque()\n",
    "    q.append((dp,x,y,d))\n",
    "    \n",
    "    while q:\n",
    "        s,x,y,d=q.popleft()\n",
    "        \n",
    "        dx,dy0,dy1=x+1,y+0,y+1\n",
    "        if dx >= l:\n",
    "            continue\n",
    "        s0=d+triangle[dx][dy0]\n",
    "        s1=d+triangle[dx][dy1]\n",
    "        if dp[dx][dy0] < s0:\n",
    "            dp[dx][dy0] = s0\n",
    "        if dp[dx][dy1] < s1:\n",
    "            dp[dx][dy1] = s1\n",
    "        q.append((s0,dx,dy0,dp[dx][dy0]))\n",
    "        q.append((s1,dx,dy1,dp[dx][dy1]))\n",
    "    return max(dp[-1])\n",
    "\n",
    "print(solution(triangle))"
   ]
  },
  {
   "cell_type": "code",
   "execution_count": 122,
   "metadata": {
    "scrolled": true
   },
   "outputs": [
    {
     "name": "stdout",
     "output_type": "stream",
     "text": [
      "{0: [7], 1: [-1, -1], 2: [-1, -1, -1], 3: [-1, -1, -1, -1], 4: [-1, -1, -1, -1, -1]}\n",
      "30\n"
     ]
    }
   ],
   "source": [
    "triangle=[[7], [3, 8], [8, 1, 0], [2, 7, 4, 4], [4, 5, 2, 6, 5]]\n",
    "\n",
    "\n",
    "def solution(triangle):\n",
    "    from collections import deque\n",
    "    l=len(triangle[-1])\n",
    "\n",
    "    move=[0,1]\n",
    "    tri={i:triangle[i] for i in range(l)}\n",
    "    dp={i:[-1]*(i+1) for i in range(l)}\n",
    "    dp[0][0]=sum_=tri[0][0] #sum\n",
    "    x,y=0,0\n",
    "    q=deque()\n",
    "    q.append((sum_,x,y))\n",
    "    \n",
    "    while q:\n",
    "        s,x,y=q.popleft()\n",
    "        \n",
    "        for i in move:\n",
    "            dx,dy=x+1,y+i\n",
    "            if dx >= l:\n",
    "                continue\n",
    "            s=dp[x][y]+tri[dx][dy]\n",
    "            if dp[dx][dy] < s:\n",
    "                dp[dx][dy] = s\n",
    "            q.append((s,dx,dy))\n",
    "\n",
    "    return max(dp[l-1])\n",
    "\n",
    "print(solution(triangle))"
   ]
  },
  {
   "cell_type": "code",
   "execution_count": 140,
   "metadata": {},
   "outputs": [
    {
     "name": "stdout",
     "output_type": "stream",
     "text": [
      "30\n"
     ]
    }
   ],
   "source": [
    "triangle=[[7], [3, 8], [8, 1, 0], [2, 7, 4, 4], [4, 5, 2, 6, 5]]\n",
    "\n",
    "\n",
    "def solution(triangle):\n",
    "    from collections import deque\n",
    "\n",
    "    l=len(triangle[-1])\n",
    "    move=[0,1]\n",
    "    dp=[[-1]*i for i in range(1,l+1)]\n",
    "    d=triangle[0][0] #sum\n",
    "    x,y=0,0\n",
    "    q=deque()\n",
    "    q.append((dp,x,y,d))\n",
    "    \n",
    "    while q:\n",
    "        s,x,y,d=q.popleft()\n",
    "        dx,dy0,dy1=x+1,y+0,y+1\n",
    "        \n",
    "        if dx >= l:\n",
    "            continue\n",
    "        s0=d+triangle[dx][dy0]\n",
    "        s1=d+triangle[dx][dy1]\n",
    "        if dp[dx][dy0] < s0:\n",
    "            dp[dx][dy0] = s0\n",
    "        if dp[dx][dy1] < s1:\n",
    "            dp[dx][dy1] = s1\n",
    "        q.append((s0,dx,dy0,dp[dx][dy0]))\n",
    "        q.append((s1,dx,dy1,dp[dx][dy1]))\n",
    "        if -1 not in dp[-1]:\n",
    "            return max(dp[-1])\n",
    "#     return max(dp[-1])\n",
    "\n",
    "print(solution(triangle))"
   ]
  },
  {
   "cell_type": "code",
   "execution_count": 142,
   "metadata": {},
   "outputs": [
    {
     "name": "stdout",
     "output_type": "stream",
     "text": [
      "30\n"
     ]
    }
   ],
   "source": [
    "#\n",
    "def solution(triangle):\n",
    "    from collections import deque\n",
    "\n",
    "    l=len(triangle[-1])\n",
    "    move=[0,1]\n",
    "    tri={i:triangle[i] for i in range(l)}\n",
    "    dp={i:[-1]*(i+1) for i in range(l)}\n",
    "    d=tri[0][0] #sum\n",
    "    x,y=0,0\n",
    "    q=deque()\n",
    "    q.append((x,y,d))\n",
    "    \n",
    "    while q:\n",
    "        x,y,d=q.popleft()\n",
    "        dx=x+1\n",
    "        if dx >=l: continue\n",
    "        for i in move:\n",
    "            dy=y+i\n",
    "            s=d+tri[dx][dy]\n",
    "            \n",
    "            if dp[dx][dy] >= s: continue\n",
    "            else : dp[dx][dy] = s\n",
    "            q.append((dx,dy,dp[dx][dy]))\n",
    "            if -1 not in dp[l-1]:\n",
    "                return max(dp[l-1])\n",
    "triangle=[[7], [3, 8], [8, 1, 0], [2, 7, 4, 4], [4, 5, 2, 6, 5]]\n",
    "print(solution(triangle))"
   ]
  },
  {
   "cell_type": "code",
   "execution_count": null,
   "metadata": {},
   "outputs": [],
   "source": []
  },
  {
   "cell_type": "code",
   "execution_count": 106,
   "metadata": {},
   "outputs": [
    {
     "name": "stdout",
     "output_type": "stream",
     "text": [
      "{0: [7], 1: [3, 8], 2: [8, 1, 0], 3: [2, 7, 4, 4], 4: [4, 5, 2, 6, 5]}\n"
     ]
    }
   ],
   "source": [
    "triangle=[[7], [3, 8], [8, 1, 0], [2, 7, 4, 4], [4, 5, 2, 6, 5]]\n",
    "\n",
    "dic={i:triangle[i] for i in range(len(triangle))}\n",
    "\n",
    "print(dic)"
   ]
  }
 ],
 "metadata": {
  "kernelspec": {
   "display_name": "Python 3",
   "language": "python",
   "name": "python3"
  },
  "language_info": {
   "codemirror_mode": {
    "name": "ipython",
    "version": 3
   },
   "file_extension": ".py",
   "mimetype": "text/x-python",
   "name": "python",
   "nbconvert_exporter": "python",
   "pygments_lexer": "ipython3",
   "version": "3.7.6"
  }
 },
 "nbformat": 4,
 "nbformat_minor": 4
}
