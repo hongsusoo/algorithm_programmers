{
 "cells": [
  {
   "cell_type": "code",
   "execution_count": null,
   "metadata": {},
   "outputs": [],
   "source": [
    "#최종 제출 코드\n",
    "\n",
    "from collections import defaultdict\n",
    "from collections import deque\n",
    "\n",
    "def solution(n, computers):\n",
    "    answer = 1\n",
    "    s=set()\n",
    "    com=defaultdict(list)\n",
    "    q=deque()\n",
    "    \n",
    "    for i in range(n):\n",
    "        for j in range(n):\n",
    "            if i!=j and computers[i][j]==1:\n",
    "                com[i].append(j)\n",
    "    q.append(0)\n",
    "    while True:\n",
    "        node=q.popleft()\n",
    "        s.add(node)\n",
    "        for nd in com[node]:\n",
    "            if not nd in s: \n",
    "                q.append(nd)\n",
    "        if q == deque([]):\n",
    "            for i in range(n):\n",
    "                if not i in s:\n",
    "                    q.append(i)\n",
    "                    answer+=1\n",
    "                    break\n",
    "        if len(s)==n:\n",
    "            return answer\n",
    "        \n",
    "n=4\n",
    "computers=[[1, 0, 0,0], [0, 1, 0,0], [0, 0, 1,0],[0, 0, 0, 1]]\n",
    "# n=3\n",
    "# computers=[[1, 1, 0], [1, 1, 1], [0, 1, 1]]\n",
    "solution(n,computers)"
   ]
  },
  {
   "cell_type": "code",
   "execution_count": null,
   "metadata": {},
   "outputs": [],
   "source": [
    "#다른 사람 풀이\n",
    "def visit(k, graph, visited):\n",
    "    visited[k] = 1\n",
    "    for i in range(len(graph[k])):\n",
    "        if visited[i] == 0 and graph[k][i] == 1:\n",
    "            visit(i, graph, visited)\n",
    "\n",
    "def solution(n, computers):\n",
    "\n",
    "    visited = [0] * n\n",
    "\n",
    "    answer = 0\n",
    "\n",
    "    for i in range(n):\n",
    "        if visited[i] == 0:\n",
    "            visit(i, computers, visited)\n",
    "            answer += 1\n",
    "        if 0 not in visited:\n",
    "            break\n",
    "\n",
    "    return answer"
   ]
  },
  {
   "cell_type": "code",
   "execution_count": null,
   "metadata": {},
   "outputs": [],
   "source": [
    "from collections import defaultdict\n",
    "from collections import deque\n",
    "\n",
    "def solution(n, computers):\n",
    "    answer = 1\n",
    "    s=set()\n",
    "    com=defaultdict(list)\n",
    "    q=deque()\n",
    "    \n",
    "    for i in range(n):\n",
    "        for j in range(n):\n",
    "            if i!=j and computers[i][j]==1:\n",
    "                com[i].append(j)\n",
    "    q.append(0)\n",
    "    while True:\n",
    "        node=q.popleft()\n",
    "        if node in s:\n",
    "            continue\n",
    "        s.add(node)\n",
    "        for nd in com[node]:\n",
    "            if not nd in s: \n",
    "                q.append(nd)\n",
    "        if q == deque([]):\n",
    "            for i in range(n):\n",
    "                if not i in s:\n",
    "                    q.append(i)\n",
    "                    answer+=1\n",
    "                    break\n",
    "        if len(s)==n:\n",
    "            return answer\n",
    "        \n",
    "n=4\n",
    "computers=[[1, 0, 0,0], [0, 1, 0,0], [0, 0, 1,0],[0, 0, 0, 1]]\n",
    "# n=3\n",
    "# computers=[[1, 1, 0], [1, 1, 1], [0, 1, 1]]\n",
    "solution(n,computers)"
   ]
  },
  {
   "cell_type": "code",
   "execution_count": 24,
   "metadata": {},
   "outputs": [
    {
     "data": {
      "text/plain": [
       "3"
      ]
     },
     "execution_count": 24,
     "metadata": {},
     "output_type": "execute_result"
    }
   ],
   "source": [
    "a=set()\n",
    "a.add(1)\n",
    "a.add(2)\n",
    "a.add(4)\n",
    "len(a)\n"
   ]
  }
 ],
 "metadata": {
  "kernelspec": {
   "display_name": "Python 3",
   "language": "python",
   "name": "python3"
  },
  "language_info": {
   "codemirror_mode": {
    "name": "ipython",
    "version": 3
   },
   "file_extension": ".py",
   "mimetype": "text/x-python",
   "name": "python",
   "nbconvert_exporter": "python",
   "pygments_lexer": "ipython3",
   "version": "3.7.6"
  }
 },
 "nbformat": 4,
 "nbformat_minor": 4
}
