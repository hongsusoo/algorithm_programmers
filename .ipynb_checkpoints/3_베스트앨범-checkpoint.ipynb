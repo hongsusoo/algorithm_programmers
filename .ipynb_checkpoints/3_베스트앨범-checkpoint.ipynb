{
 "cells": [
  {
   "cell_type": "code",
   "execution_count": 74,
   "metadata": {},
   "outputs": [
    {
     "data": {
      "text/plain": [
       "[4, 1, 3, 0]"
      ]
     },
     "execution_count": 74,
     "metadata": {},
     "output_type": "execute_result"
    }
   ],
   "source": [
    "# 최종 제출 코드\n",
    "from collections import defaultdict\n",
    "\n",
    "def solution(genres, plays):\n",
    "    a=defaultdict(dict)\n",
    "    t=defaultdict(int)\n",
    "    answer=[]\n",
    "    \n",
    "    for i in range(len(genres)):\n",
    "        a[genres[i]][i] = plays[i]\n",
    "        t[genres[i]] += a[genres[i]][i]\n",
    "        \n",
    "    t=sorted(t.items(), key = lambda item: item[1], reverse=True)\n",
    "    \n",
    "    for genres in t:\n",
    "        temp=sorted(a[genres[0]].items(), key = lambda item: item[1],reverse=True)\n",
    "        answer.append(temp[0][0])\n",
    "        if len(temp)>=2:\n",
    "            answer.append(temp[1][0])\n",
    "\n",
    "    return answer\n",
    "\n",
    "genres = [\"classic\", \"pop\", \"classic\", \"classic\", \"pop\"]\n",
    "plays = [500, 600, 150, 800, 2500]\n",
    "# genres = [\"classic\", \"classic\", \"classic\", \"pop\",'a','b']\n",
    "# plays = [500, 150, 800, 2500,9999,11]\n",
    "solution(genres, plays)"
   ]
  },
  {
   "cell_type": "code",
   "execution_count": null,
   "metadata": {},
   "outputs": [],
   "source": [
    "# 다른 사람 코드\n",
    "\n",
    "def solution(genres, plays):\n",
    "    answer = []\n",
    "    dic = {}\n",
    "    album_list = []\n",
    "    for i in range(len(genres)):\n",
    "        dic[genres[i]] = dic.get(genres[i], 0) + plays[i]\n",
    "        album_list.append(album(genres[i], plays[i], i))\n",
    "\n",
    "    dic = sorted(dic.items(), key=lambda dic:dic[1], reverse=True)\n",
    "    album_list = sorted(album_list, reverse=True)\n",
    "\n",
    "\n",
    "\n",
    "    while len(dic) > 0:\n",
    "        play_genre = dic.pop(0)\n",
    "        print(play_genre)\n",
    "        cnt = 0;\n",
    "        for ab in album_list:\n",
    "            if play_genre[0] == ab.genre:\n",
    "                answer.append(ab.track)\n",
    "                cnt += 1\n",
    "            if cnt == 2:\n",
    "                break\n",
    "\n",
    "    return answer\n",
    "\n",
    "class album:\n",
    "    def __init__(self, genre, play, track):\n",
    "        self.genre = genre\n",
    "        self.play = play\n",
    "        self.track = track\n",
    "\n",
    "    def __lt__(self, other):\n",
    "        return self.play < other.play\n",
    "    def __le__(self, other):\n",
    "        return self.play <= other.play\n",
    "    def __gt__(self, other):\n",
    "        return self.play > other.play\n",
    "    def __ge__(self, other):\n",
    "        return self.play >= other.play\n",
    "    def __eq__(self, other):\n",
    "        return self.play == other.play\n",
    "    def __ne__(self, other):\n",
    "        return self.play != other.play"
   ]
  },
  {
   "cell_type": "code",
   "execution_count": null,
   "metadata": {},
   "outputs": [],
   "source": [
    "# 다른 사람 코드\n",
    "\n",
    "def solution(genres, plays):\n",
    "    answer = []\n",
    "    d = {e:[] for e in set(genres)}\n",
    "    for e in zip(genres, plays, range(len(plays))):\n",
    "        d[e[0]].append([e[1] , e[2]])\n",
    "    genreSort =sorted(list(d.keys()), key= lambda x: sum( map(lambda y: y[0],d[x])), reverse = True)\n",
    "    for g in genreSort:\n",
    "        temp = [e[1] for e in sorted(d[g],key= lambda x: (x[0], -x[1]), reverse = True)]\n",
    "        answer += temp[:min(len(temp),2)]\n",
    "    return answer"
   ]
  },
  {
   "cell_type": "code",
   "execution_count": null,
   "metadata": {},
   "outputs": [],
   "source": [
    "from collections import defaultdict\n",
    "\n",
    "def solution(genres, plays):\n",
    "    a=defaultdict(list)\n",
    "    t=defaultdict(int)\n",
    "    for i in range(len(genres)):\n",
    "        a[genres[i]].append((plays[i],i))\n",
    "        t[genres[i]] += a[genres[i]][-1][0]\n",
    "    \n",
    "    print(a)\n",
    "    print(t)\n",
    "    answer = []\n",
    "    return answer\n",
    "\n",
    "genres = [\"classic\", \"pop\", \"classic\", \"classic\", \"pop\"]\n",
    "plays = [500, 600, 150, 800, 2500]\n",
    "solution(genres, plays)"
   ]
  },
  {
   "cell_type": "code",
   "execution_count": 61,
   "metadata": {},
   "outputs": [
    {
     "data": {
      "text/plain": [
       "[(3, 800), (0, 500), (2, 150)]"
      ]
     },
     "execution_count": 61,
     "metadata": {},
     "output_type": "execute_result"
    }
   ],
   "source": [
    "b={'classic': {0: 500, 2: 150, 3: 800}, 'pop': {1: 600, 4: 2500}}\n",
    "b=sorted(b['classic'].items(), key = lambda item: item[1],reverse=True)\n",
    "b"
   ]
  },
  {
   "cell_type": "code",
   "execution_count": null,
   "metadata": {},
   "outputs": [],
   "source": []
  },
  {
   "cell_type": "code",
   "execution_count": 59,
   "metadata": {},
   "outputs": [
    {
     "data": {
      "text/plain": [
       "[('pop', 3100), ('classic', 1450)]"
      ]
     },
     "execution_count": 59,
     "metadata": {},
     "output_type": "execute_result"
    }
   ],
   "source": [
    "b={'classic': 1450, 'pop': 3100}\n",
    "b=sorted(b.items(), key = lambda item: item[0],reverse=True)\n",
    "b"
   ]
  }
 ],
 "metadata": {
  "kernelspec": {
   "display_name": "Python 3",
   "language": "python",
   "name": "python3"
  },
  "language_info": {
   "codemirror_mode": {
    "name": "ipython",
    "version": 3
   },
   "file_extension": ".py",
   "mimetype": "text/x-python",
   "name": "python",
   "nbconvert_exporter": "python",
   "pygments_lexer": "ipython3",
   "version": "3.7.6"
  }
 },
 "nbformat": 4,
 "nbformat_minor": 4
}
