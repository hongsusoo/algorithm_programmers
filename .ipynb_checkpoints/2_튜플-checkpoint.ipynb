{
 "cells": [
  {
   "cell_type": "code",
   "execution_count": 19,
   "metadata": {},
   "outputs": [
    {
     "data": {
      "text/plain": [
       "defaultdict(list, {3: ['2', '1'], 5: ['1', '2', '4', '3'], 2: ['2'], 1: []})"
      ]
     },
     "execution_count": 19,
     "metadata": {},
     "output_type": "execute_result"
    }
   ],
   "source": [
    "from collections import defaultdict\n",
    "\n",
    "def solution(s):\n",
    "    s=s.replace(\"{\",\"\")\n",
    "    s=s.replace(\",\",\"\")\n",
    "    answer = defaultdict(list)\n",
    "    k=0\n",
    "    temp=[]\n",
    "    for i in s:\n",
    "        k+=1\n",
    "        if i!='}':\n",
    "            temp.append(i)\n",
    "        else : \n",
    "            answer[k]=temp\n",
    "            k=0\n",
    "            temp=[]\n",
    "    return answer\n",
    "\n",
    "\n",
    "# s=\"{{2},{2,1},{2,1,3},{2,1,3,4}}\"\n",
    "s=\"{{1,2,3},{2,1},{1,2,4,3},{2}}\"\n",
    "# s=\"{{20,111},{111}}\"\n",
    "# s=\"{{123}}\"\n",
    "# s=\"{{4,2,3},{3},{2,3,4,1},{2,3}}\"\n",
    "solution(s)"
   ]
  },
  {
   "cell_type": "code",
   "execution_count": 47,
   "metadata": {
    "scrolled": true
   },
   "outputs": [
    {
     "data": {
      "text/plain": [
       "[3, 2, 4, 1]"
      ]
     },
     "execution_count": 47,
     "metadata": {},
     "output_type": "execute_result"
    }
   ],
   "source": [
    "#최종 제출 코드\n",
    "from collections import defaultdict\n",
    "\n",
    "def solution(s):\n",
    "    answer=[]\n",
    "    s=s[2:-2]\n",
    "    s=s.split(\"},{\")\n",
    "    s=[i.split(\",\") for i in s]\n",
    "    temp = defaultdict(list)\n",
    "    for i in s:\n",
    "        temp[len(i)]=i\n",
    "    answer=[int(temp[1][0])]\n",
    "    for i in range(1,len(temp)):\n",
    "        for j in range(len(temp[i+1])):\n",
    "            if not temp[i+1][j] in temp[i]:\n",
    "                answer.append(int(temp[i+1][j]))\n",
    "    return answer\n",
    "\n",
    "# s=\"{{2},{2,1},{2,1,3},{2,1,3,4}}\"\n",
    "# s=\"{{1,2,3},{2,1},{1,2,4,3},{2}}\"\n",
    "# s=\"{{20,111},{111}}\"\n",
    "# s=\"{{123}}\"\n",
    "s=\"{{4,2,3},{3},{2,3,4,1},{2,3}}\"\n",
    "solution(s)"
   ]
  },
  {
   "cell_type": "code",
   "execution_count": null,
   "metadata": {},
   "outputs": [],
   "source": [
    "#다른 사람 코드 1\n",
    "\n",
    "def solution(s):\n",
    "\n",
    "    s = Counter(re.findall('\\d+', s))\n",
    "    return list(map(int, [k for k, v in sorted(s.items(), key=lambda x: x[1], reverse=True)]))\n",
    "\n",
    "import re\n",
    "from collections import Counter"
   ]
  },
  {
   "cell_type": "code",
   "execution_count": null,
   "metadata": {},
   "outputs": [],
   "source": [
    "#다른 사람 코드 2\n",
    "\n",
    "def solution(s):\n",
    "    # {{, }}를 제거 후 },{ 으로 나누기\n",
    "    data = s[2:-2].split(\"},{\")\n",
    "    # 길이 별로 오름차순 정렬\n",
    "    data = sorted(data, key=lambda x: len(x))\n",
    "    answer = []\n",
    "    for item in data:\n",
    "        # 각각의 원소로 분류 후\n",
    "        item = list(map(int, item.split(\",\")))\n",
    "        for value in item:\n",
    "            # 포함되어 있지 않으면 input\n",
    "            if value not in answer:\n",
    "                answer.append(value)\n",
    "    return answer"
   ]
  },
  {
   "cell_type": "code",
   "execution_count": 10,
   "metadata": {},
   "outputs": [
    {
     "name": "stdout",
     "output_type": "stream",
     "text": [
      "defaultdict(<class 'list'>, {1: [1, 2, 3, 4]})\n"
     ]
    }
   ],
   "source": [
    "from collections import defaultdict\n",
    "answer = defaultdict(list)\n",
    "answer[1]=[1,2,3]\n",
    "answer[1].append(4)\n",
    "print(answer)"
   ]
  }
 ],
 "metadata": {
  "kernelspec": {
   "display_name": "Python 3",
   "language": "python",
   "name": "python3"
  },
  "language_info": {
   "codemirror_mode": {
    "name": "ipython",
    "version": 3
   },
   "file_extension": ".py",
   "mimetype": "text/x-python",
   "name": "python",
   "nbconvert_exporter": "python",
   "pygments_lexer": "ipython3",
   "version": "3.7.6"
  }
 },
 "nbformat": 4,
 "nbformat_minor": 4
}
