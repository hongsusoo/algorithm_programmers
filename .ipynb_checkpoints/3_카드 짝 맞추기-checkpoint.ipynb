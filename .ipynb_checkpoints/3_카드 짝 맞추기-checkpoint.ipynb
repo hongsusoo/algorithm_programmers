{
 "cells": [
  {
   "cell_type": "code",
   "execution_count": 1,
   "metadata": {},
   "outputs": [
    {
     "name": "stdout",
     "output_type": "stream",
     "text": [
      "14\n"
     ]
    }
   ],
   "source": [
    "board= [[1,0,0,3],[2,0,0,0],[0,0,0,2],[3,0,1,0]]\n",
    "r=1\n",
    "c=0\n",
    "\n",
    "def move_ctrl(y,x,dy,dx,b):\n",
    "    ny, nx = y+dy, x+dx\n",
    "    if (4>ny>=0) and (4>nx>=0) and (b[4*ny+nx]=='0'): # &로 And를 대체 할 경우 error 발생\n",
    "        return move_ctrl(ny,nx,dy,dx,b)\n",
    "    \n",
    "    elif (4>ny>=0) and (4>nx>=0) and (b[4*ny+nx]!='0'):\n",
    "        return (ny,nx)\n",
    "    else:\n",
    "        return (y,x)\n",
    "        \n",
    "def solution(board, r, c):\n",
    "    from collections import deque\n",
    "    import copy\n",
    "    \n",
    "    d=[(0,1),(0,-1),(-1,0),(1,0)]\n",
    "    b=''\n",
    "    cnt = 0\n",
    "    enter = -1\n",
    "    q = deque()    \n",
    "    answer=0\n",
    "    \n",
    "    for i in range(4):\n",
    "        for j in range(4):\n",
    "            b+=str(board[i][j])\n",
    "            \n",
    "    q.append((r,c,b,cnt,enter))\n",
    "    s=set()\n",
    "    \n",
    "    while q:\n",
    "        y,x,b,c,e=q.popleft()\n",
    "        pos = 4*y+x\n",
    "        \n",
    "        if (y,x,b,e) in s:\n",
    "            continue\n",
    "        s.add((y,x,b,e))\n",
    "\n",
    "        if b.count('0')==16:\n",
    "            return c\n",
    "        \n",
    "        #1칸씩 4방향 이동\n",
    "        for (dy,dx) in d:\n",
    "            ny,nx=y+dy,x+dx\n",
    "            if (4>ny>=0) and (4>nx>=0):\n",
    "                q.append((ny,nx,b,c+1,e))\n",
    "        \n",
    "        #ctrl 사용 4방향 이동\n",
    "        for (dy,dx) in d:\n",
    "            ny,nx = move_ctrl(y,x,dy,dx,b)\n",
    "            if (y==ny) and (x==nx):\n",
    "                continue\n",
    "            q.append((ny,nx,b,c+1,e))\n",
    "    \n",
    "        #enter누르기 \n",
    "        if b[pos] != 0:\n",
    "            if e == -1:\n",
    "                q.append((y,x,b,c+1,pos))\n",
    "            else :\n",
    "                if e!=pos and b[e]==b[pos]: #e: 신규 위치,pos: 이전 card위치\n",
    "                    b=b.replace(b[e],'0')\n",
    "                    q.append((y,x,b,c+1,-1))\n",
    "                    \n",
    "    return answer\n",
    "\n",
    "print(solution(board,r,c))"
   ]
  },
  {
   "cell_type": "code",
   "execution_count": 4,
   "metadata": {},
   "outputs": [
    {
     "name": "stdout",
     "output_type": "stream",
     "text": [
      "0 14\n",
      "0 16\n"
     ]
    }
   ],
   "source": [
    "def cnt_min_row(cursor,target):\n",
    "    cnt = [0, 0]\n",
    "    for j in range(2):\n",
    "        temp_cnt=0\n",
    "        while cursor[j]!=target[j]:\n",
    "            if diff[j]>0:\n",
    "                cursor[j] += 1\n",
    "            elif diff[j]<0:\n",
    "                cursor[j] -= 1\n",
    "            if (board_1[cursor[0]][cursor[1]] != 0) or (cursor[j]%3 == 0):\n",
    "                temp_cnt+=1\n",
    "                cnt[j]=temp_cnt\n",
    "            elif board_1[cursor[0]][cursor[1]] == 0:\n",
    "                cnt[j]+=1\n",
    "    return sum(cnt)\n",
    "\n",
    "def cnt_min_column(cursor,target):\n",
    "    cnt = [0, 0]\n",
    "    for j in range(2):\n",
    "        j=j-1\n",
    "        temp_cnt=0\n",
    "        while cursor[j]!=target[j]:\n",
    "            if diff[j]>0:\n",
    "                cursor[j] += 1\n",
    "            elif diff[j]<0:\n",
    "                cursor[j] -= 1\n",
    "            if (board_1[cursor[0]][cursor[1]] != 0) or (cursor[j]%3 == 0):\n",
    "                temp_cnt+=1\n",
    "                cnt[j]=temp_cnt\n",
    "            elif board_1[cursor[0]][cursor[1]] == 0:\n",
    "                cnt[j]+=1\n",
    "    return sum(cnt)\n",
    "\n",
    "\n",
    "def solution(board, r, c):\n",
    "    from collections import defaultdict\n",
    "    import heapq\n",
    "    \n",
    "    card = defaultdict(list)\n",
    "    cursor = [r,c]\n",
    "    min_cnt = []\n",
    "    \n",
    "    for i in range(4):\n",
    "        for j in range(4):\n",
    "            if board_1[i][j] != 0:\n",
    "                card[board_1[i][j]]+=[[i,j]]\n",
    "    \n",
    "                \n",
    "    for key,value in card.items():\n",
    "        for i in range(2):\n",
    "              \n",
    "    \n",
    "    answer = 0\n",
    "    return answer\n",
    "\n",
    "\n",
    "print(solution(board_1,r1,c1), 14)\n",
    "print(solution(board_2,r2,c2), 16)"
   ]
  },
  {
   "cell_type": "code",
   "execution_count": 5,
   "metadata": {},
   "outputs": [
    {
     "data": {
      "text/plain": [
       "14"
      ]
     },
     "execution_count": 5,
     "metadata": {},
     "output_type": "execute_result"
    }
   ],
   "source": [
    "board= [[1,0,0,3],[2,0,0,0],[0,0,0,2],[3,0,1,0]]\n",
    "r=1\n",
    "c=0\n",
    "\n",
    "from collections import deque\n",
    "\n",
    "d = [(1, 0), (-1, 0), (0, 1), (0, -1)]\n",
    "\n",
    "def end_game(b):\n",
    "    if b.count(\"0\") == 16:\n",
    "        return True\n",
    "    return False\n",
    "\n",
    "def remove_element(b, e):\n",
    "    b = b.replace(e, \"0\")\n",
    "    return b\n",
    "\n",
    "def move(b, y, x, dy, dx):\n",
    "    ny, nx = y + dy, x + dx\n",
    "    if ny >= 0 and ny < 4 and nx >= 0 and nx < 4 and b[ny * 4 + nx] == \"0\":\n",
    "        return move(b, ny, nx, dy, dx)\n",
    "    else:\n",
    "        if ny >= 0 and ny < 4 and nx >= 0 and nx < 4:\n",
    "            return (ny, nx)\n",
    "        else:\n",
    "            return (y, x)\n",
    "\n",
    "def solution(board, r, c):\n",
    "    answer = 0\n",
    "    b = \"\"\n",
    "    for i in range(4):\n",
    "        for j in range(4):\n",
    "            b += str(board[i][j])\n",
    "    q = deque([])\n",
    "\n",
    "    cnt = 0\n",
    "    enter = -1 # enter을 클릭했던 위치\n",
    "    q.append((r, c, b, cnt, enter))\n",
    "    s = set()\n",
    "    \n",
    "    while q:\n",
    "        \n",
    "        y, x, b, c, e = q.popleft()\n",
    "        pos = 4 * y + x\n",
    "\n",
    "        if (y, x, b, e) in s:\n",
    "            continue\n",
    "        s.add((y, x, b, e))\n",
    "        \n",
    "        if end_game(b):\n",
    "            return c\n",
    "\n",
    "        # 4 방향 이동\n",
    "        for (dy, dx) in d:\n",
    "            ny, nx = y + dy, x + dx\n",
    "            if ny >= 0 and ny < 4 and nx >= 0 and nx < 4:\n",
    "                q.append((ny, nx, b, c+1, e))\n",
    "\n",
    "        # Ctrl + 4 방향 이동\n",
    "        for (dy, dx) in d:\n",
    "            ny, nx = move(b, y, x, dy, dx)\n",
    "            if ny == y and nx == x:\n",
    "                continue\n",
    "            q.append((ny, nx, b, c+1, e))\n",
    "\n",
    "        # enter를 하는 경우\n",
    "        if b[pos] != 0:\n",
    "            if e == -1:\n",
    "                n_e = pos\n",
    "                q.append((y, x, b, c+1, n_e))\n",
    "            else:\n",
    "                if e != pos and b[e] == b[pos]:\n",
    "                    b = remove_element(b, b[e])\n",
    "                    q.append((y, x, b, c+1, -1))\n",
    "\n",
    "    return answer\n",
    "\n",
    "\n",
    "solution(board, r, c)"
   ]
  },
  {
   "cell_type": "code",
   "execution_count": 194,
   "metadata": {
    "scrolled": true
   },
   "outputs": [
    {
     "name": "stdout",
     "output_type": "stream",
     "text": [
      "{1: [(0, 0), (3, 2)], 2: [(1, 0), (2, 3)], 3: [(0, 3), (3, 0)], 4: [], 5: [], 6: []}\n"
     ]
    },
    {
     "data": {
      "text/plain": [
       "14"
      ]
     },
     "execution_count": 194,
     "metadata": {},
     "output_type": "execute_result"
    }
   ],
   "source": [
    "board= [[1,0,0,3],[2,0,0,0],[0,0,0,2],[3,0,1,0]]\n",
    "r=1\n",
    "c=0\n",
    "\n",
    "from itertools import permutations\n",
    "from collections import deque\n",
    "\n",
    "def ctrl(board, x0, y0, dx, dy):\n",
    "    for i in range(1, 4):\n",
    "        x1,y1=x0 + dx * i,y0 + dy * i\n",
    "        if 0 <= (x1) < 4 and 0 <= (y1) < 4:\n",
    "            if board[x1][y1] > 0:\n",
    "                return (x1, y1)\n",
    "            l = i\n",
    "    return (x0 + dx * l, y0 + dy * l)\n",
    "\n",
    "def move(board, xy0, xy1):\n",
    "    dist = [[99] * 4 for _ in range(4)]\n",
    "    q = deque([(xy0, 0)])\n",
    "    while q:\n",
    "        [x, y], d = q.popleft()\n",
    "        if d < dist[x][y]:\n",
    "            dist[x][y] = d\n",
    "            for dx, dy in [(+1, 0), (-1, 0), (0, +1), (0, -1)]:\n",
    "                if 0 <= x + dx < 4 and 0 <= y + dy < 4:\n",
    "                    q.append(((x + dx, y + dy), d + 1))\n",
    "                    q.append((ctrl(board, x, y, dx, dy), d + 1))\n",
    "    return dist[xy1[0]][xy1[1]]\n",
    "\n",
    "def solution(board, r, c):\n",
    "    loc = {k: [] for k in range(1, 7)}\n",
    "    \n",
    "    for i in range(4):\n",
    "        for j in range(4):\n",
    "            if board[i][j]:\n",
    "                loc[board[i][j]].append((i, j))\n",
    "    print(loc)\n",
    "    minv = 100\n",
    "\n",
    "    for p in permutations(filter(lambda v: v, loc.values())):\n",
    "    \n",
    "        sumv = 0\n",
    "        xys = [(r, c)]\n",
    "        stage = [[v for v in w] for w in board]\n",
    "        \n",
    "        for xy1, xy2 in p:\n",
    "            vs = [(move(stage, xy, xy1) + move(stage, xy1, xy2), xy2) for xy in xys]\\\n",
    "            + [(move(stage, xy, xy2) + move(stage, xy2, xy1), xy1) for xy in xys]\n",
    "            stage[xy1[0]][xy1[1]] = stage[xy2[0]][xy2[1]] = 0\n",
    "            mvn=min(vs)[0]\n",
    "            sumv += 2 + (mvn)\n",
    "            xys = [xy for m, xy in vs if m == mvn]\n",
    "            \n",
    "        minv = min(sumv, minv)\n",
    "        \n",
    "    return minv\n",
    "solution(board, r, c)"
   ]
  },
  {
   "cell_type": "code",
   "execution_count": 164,
   "metadata": {},
   "outputs": [
    {
     "name": "stdout",
     "output_type": "stream",
     "text": [
      "3.7.6 (default, Jan  8 2020, 20:23:39) [MSC v.1916 64 bit (AMD64)]\n"
     ]
    }
   ],
   "source": [
    "import sys\n",
    "print(sys.version)\n"
   ]
  },
  {
   "cell_type": "code",
   "execution_count": 175,
   "metadata": {},
   "outputs": [
    {
     "name": "stdout",
     "output_type": "stream",
     "text": [
      "[[1, 0, 0, 3], [2, 0, 0, 0], [0, 0, 0, 2], [3, 0, 1, 0]]\n"
     ]
    },
    {
     "data": {
      "text/plain": [
       "[[1, 0, 0, 3], [2, 0, 0, 0], [0, 0, 0, 2], [3, 0, 1, 0]]"
      ]
     },
     "execution_count": 175,
     "metadata": {},
     "output_type": "execute_result"
    }
   ],
   "source": [
    "board_1 = [[1,0,0,3],[2,0,0,0],[0,0,0,2],[3,0,1,0]]\n",
    "stage_1 = [[v for v in w] for w in board_1]\n",
    "\n",
    "print(stage_1)\n",
    "stage_1[0][0]=99\n",
    "board_1\n"
   ]
  },
  {
   "cell_type": "code",
   "execution_count": 4,
   "metadata": {},
   "outputs": [
    {
     "data": {
      "text/plain": [
       "[[1, 0, 0, 3], [2, 0, 0, 0], [0, 0, 0, 2], [3, 0, 1, 0]]"
      ]
     },
     "execution_count": 4,
     "metadata": {},
     "output_type": "execute_result"
    }
   ],
   "source": [
    "import copy\n",
    "board_2= [[1,0,0,3],[2,0,0,0],[0,0,0,2],[3,0,1,0]]\n",
    "stage_2=copy.deepcopy(board_2)\n",
    "stage_2[0][0]=99\n",
    "board_2"
   ]
  }
 ],
 "metadata": {
  "kernelspec": {
   "display_name": "Python 3",
   "language": "python",
   "name": "python3"
  },
  "language_info": {
   "codemirror_mode": {
    "name": "ipython",
    "version": 3
   },
   "file_extension": ".py",
   "mimetype": "text/x-python",
   "name": "python",
   "nbconvert_exporter": "python",
   "pygments_lexer": "ipython3",
   "version": "3.7.6"
  }
 },
 "nbformat": 4,
 "nbformat_minor": 4
}
