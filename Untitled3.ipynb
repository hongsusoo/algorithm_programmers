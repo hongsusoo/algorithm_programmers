{
 "cells": [
  {
   "cell_type": "code",
   "execution_count": 147,
   "metadata": {},
   "outputs": [
    {
     "data": {
      "text/plain": [
       "[1, 2, 3]"
      ]
     },
     "execution_count": 147,
     "metadata": {},
     "output_type": "execute_result"
    }
   ],
   "source": [
    "a=[2,1,3]\n",
    "a=sorted(a)\n",
    "a"
   ]
  },
  {
   "cell_type": "code",
   "execution_count": null,
   "metadata": {},
   "outputs": [],
   "source": [
    "def solution(play_time, adv_time, logs):\n",
    "    answer = ''\n",
    "    return answer\n",
    "\n",
    "play_time=\"02:03:55\"\n",
    "adv_time=\"00:14:15\"\n",
    "logs=[\"01:20:15-01:45:14\", \"00:40:31-01:00:00\", \"00:25:50-00:48:29\", \"01:30:59-01:53:29\", \"01:37:44-02:02:30\"]\n",
    "\n",
    "print(solution(play_time, adv_time, logs))\n",
    "print(\"01:30:59\")"
   ]
  },
  {
   "cell_type": "code",
   "execution_count": 145,
   "metadata": {},
   "outputs": [
    {
     "name": "stdout",
     "output_type": "stream",
     "text": [
      "[['012015', '014514']]\n",
      "[['012015', '014514'], ['004031', '010000']]\n",
      "[['012015', '014514'], ['004031', '010000'], ['002550', '004829']]\n",
      "[['012015', '014514'], ['004031', '010000'], ['002550', '004829'], ['013059', '015329']]\n",
      "[['012015', '014514'], ['004031', '010000'], ['002550', '004829'], ['013059', '015329'], ['013744', '020230']]\n"
     ]
    }
   ],
   "source": [
    "logs=[\"01:20:15-01:45:14\", \"00:40:31-01:00:00\", \"00:25:50-00:48:29\", \"01:30:59-01:53:29\", \"01:37:44-02:02:30\"]\n",
    "n_l=[]\n",
    "for i in logs:\n",
    "    i=i.replace(\":\",\"\")\n",
    "    x,y=i.split(\"-\")\n",
    "    n_l.append([x,y])\n",
    "    print(n_l)\n",
    "\n",
    "\n",
    "def time_to_sec(time): #str(hh:mm:ss)형태\n",
    "    "
   ]
  },
  {
   "cell_type": "code",
   "execution_count": 132,
   "metadata": {},
   "outputs": [
    {
     "name": "stdout",
     "output_type": "stream",
     "text": [
      "5\n",
      "1 3\n",
      "5 5\n",
      "3 5\n",
      "5 5\n",
      "5 5\n",
      "4\n"
     ]
    }
   ],
   "source": [
    "import sys\n",
    "input = sys.stdin.readline\n",
    "\n",
    "n = int(input()) \n",
    "time_table = sorted([list(map(int, input().split())) for _ in range(n)], key=lambda x:[x[1],x[0]])\n",
    "ans,e = 0,0 \n",
    "for stt, end in time_table:\n",
    "    if stt >= e: \n",
    "        ans += 1 \n",
    "        e = end \n",
    "print(ans)"
   ]
  },
  {
   "cell_type": "code",
   "execution_count": 109,
   "metadata": {},
   "outputs": [
    {
     "name": "stdout",
     "output_type": "stream",
     "text": [
      "defaultdict(<class 'int'>, {0: 1})\n"
     ]
    }
   ],
   "source": [
    "3\n",
    "0 10000000\n",
    "2 9999999\n",
    "3 3\n",
    "3\n",
    "5\n",
    "1 5\n",
    "3 6\n",
    "5 7\n",
    "6 6\n",
    "6 6\n",
    "3"
   ]
  },
  {
   "cell_type": "code",
   "execution_count": 101,
   "metadata": {},
   "outputs": [
    {
     "name": "stdout",
     "output_type": "stream",
     "text": [
      "5\n",
      "1 3\n",
      "2 4\n",
      "2 1\n",
      "2 6\n",
      "3 7\n",
      "[[2, 1], [1, 3], [2, 4], [2, 6], [3, 7]]\n"
     ]
    }
   ],
   "source": [
    "from collections import defaultdict\n",
    "stt,end,log,weight=[],[],[],defaultdict(int)\n",
    "n = int(input())\n",
    "t_t = [list(map(int,input().split())) for _ in range(n)] #time_table\n",
    "t_t = sorted(t_t, key = lambda x : x[1])\n",
    "\n",
    "for i in range(n): #stt,end 동일한 구간 가중치 계산\n",
    "    if i[0]==i[1]: weight[i[1]]+=1\n",
    "    else :\n",
    "        stt+=[i[0]]\n",
    "        end+=[i[1]]\n",
    "ans=0\n",
    "for i in range(len(end)): #회의수 계산 main 식\n",
    "    \n"
   ]
  },
  {
   "cell_type": "code",
   "execution_count": 94,
   "metadata": {},
   "outputs": [
    {
     "name": "stdout",
     "output_type": "stream",
     "text": [
      "5\n",
      "1 3\n",
      "2 4\n",
      "4 4\n",
      "3 5\n",
      "4 4\n",
      "4\n"
     ]
    }
   ],
   "source": [
    "from collections import defaultdict\n",
    "time_table=defaultdict(list)\n",
    "ans=0\n",
    "n = int(input())\n",
    "for _ in range(n):\n",
    "    x,y = map(int,input().split())\n",
    "    if x==y : ans+=1\n",
    "    time_table[y]+=[x]\n",
    "    \n",
    "time_table=sorted(time_table.items())\n",
    "tt=0\n",
    "\n",
    "for i in time_table: # i[0] : end, i[1] : 시작\n",
    "    for j in i[1]:\n",
    "        if i[0]==j: continue\n",
    "        if tt<=j:\n",
    "            ans+=1\n",
    "            tt=i[0]\n",
    "            break\n",
    "print(ans)"
   ]
  },
  {
   "cell_type": "code",
   "execution_count": null,
   "metadata": {},
   "outputs": [],
   "source": [
    "5\n",
    "4 5\n",
    "4 4\n",
    "3 4\n",
    "2 5\n",
    "1 3"
   ]
  },
  {
   "cell_type": "code",
   "execution_count": 80,
   "metadata": {},
   "outputs": [
    {
     "name": "stdout",
     "output_type": "stream",
     "text": [
      "4 [1, 4]\n",
      "5 [3]\n",
      "6 [0]\n",
      "7 [5]\n",
      "8 [3]\n",
      "9 [5]\n",
      "10 [6]\n",
      "11 [8]\n",
      "12 [8]\n",
      "13 [2]\n",
      "14 [12]\n"
     ]
    }
   ],
   "source": [
    "a={9: [5], 8: [3], 7: [5], 6: [0], 5: [3], 4: [1,4], 10: [6], 12: [8], 11: [8], 13: [2], 14: [12]}\n",
    "a=sorted(a.items())\n",
    "a\n",
    "for i in a:\n",
    "    print(i[0],i[1])"
   ]
  },
  {
   "cell_type": "code",
   "execution_count": 87,
   "metadata": {},
   "outputs": [
    {
     "name": "stdout",
     "output_type": "stream",
     "text": [
      "5\n",
      "4 5\n",
      "4 4\n",
      "3 4\n",
      "2 5\n",
      "1 3\n",
      "[1] 3\n",
      "[4, 3] 4\n",
      "[4, 2] 5\n",
      "3\n"
     ]
    }
   ],
   "source": [
    "from collections import defaultdict\n",
    "time_table=defaultdict(list)\n",
    "ans=0\n",
    "n = int(input())\n",
    "for _ in range(n):\n",
    "    x,y = map(int,input().split())\n",
    "    if x==y : ans+=1\n",
    "    time_table[y]+=[x]\n",
    "    \n",
    "time_table=sorted(time_table.items())\n",
    "tt=0\n",
    "\n",
    "for i in time_table:\n",
    "    print(i[1],i[0])\n",
    "    if tt<=max(i[1]):\n",
    "        if i[0]==max(i[1]):ans-=1\n",
    "        ans+=1\n",
    "        tt=i[0]\n",
    "        \n",
    "print(ans)"
   ]
  },
  {
   "cell_type": "code",
   "execution_count": null,
   "metadata": {},
   "outputs": [],
   "source": [
    "5\n",
    "4 5\n",
    "4 4\n",
    "3 4\n",
    "2 5\n",
    "1 3"
   ]
  },
  {
   "cell_type": "code",
   "execution_count": 35,
   "metadata": {},
   "outputs": [
    {
     "name": "stdout",
     "output_type": "stream",
     "text": [
      "10 4200\n",
      "1\n",
      "5\n",
      "10\n",
      "50\n",
      "100\n",
      "500\n",
      "1000\n",
      "5000\n",
      "10000\n",
      "50000\n",
      "6\n"
     ]
    }
   ],
   "source": [
    "n,w = map(int, input().split())\n",
    "coin = []\n",
    "for _ in range(n):\n",
    "    coin = [int(input())]+coin\n",
    "ans=0\n",
    "for i in coin:\n",
    "    t=w//i\n",
    "    ans+=t\n",
    "    w-=t*i\n",
    "print(ans)\n"
   ]
  },
  {
   "cell_type": "code",
   "execution_count": null,
   "metadata": {},
   "outputs": [],
   "source": [
    "10 4200\n",
    "1\n",
    "5\n",
    "10\n",
    "50\n",
    "100\n",
    "500\n",
    "1000\n",
    "5000\n",
    "10000\n",
    "50000"
   ]
  },
  {
   "cell_type": "code",
   "execution_count": 33,
   "metadata": {},
   "outputs": [
    {
     "name": "stdout",
     "output_type": "stream",
     "text": [
      "10 159\n",
      "6\n"
     ]
    }
   ],
   "source": [
    "from collections import deque\n",
    "\n",
    "N,K=map(int,input().split())\n",
    "\n",
    "t=0\n",
    "q=deque()\n",
    "q.append((N,t))\n",
    "s=set()\n",
    "while q:\n",
    "    x,t=q.popleft()\n",
    "    if x==K:\n",
    "        print(t)\n",
    "        break\n",
    "    if not x+1 in s and x+1<=K: q.append((x+1,t+1)); s.add(x+1)\n",
    "    if not x-1 in s and x-1>=0: q.append((x-1,t+1)); s.add(x-1)  \n",
    "    if not x*2 in s and x<=K: q.append((x*2,t+1)); s.add(x*2)\n",
    "        "
   ]
  },
  {
   "cell_type": "code",
   "execution_count": 16,
   "metadata": {},
   "outputs": [
    {
     "name": "stdout",
     "output_type": "stream",
     "text": [
      "5 17\n",
      "set()\n",
      "{10, 4, 6}\n",
      "{4, 5, 6, 7, 10, 12}\n",
      "{3, 4, 5, 6, 7, 8, 10, 12}\n",
      "{3, 4, 5, 6, 7, 8, 9, 10, 11, 12, 20}\n",
      "{3, 4, 5, 6, 7, 8, 9, 10, 11, 12, 14, 20}\n",
      "{3, 4, 5, 6, 7, 8, 9, 10, 11, 12, 14, 20}\n",
      "{3, 4, 5, 6, 7, 8, 9, 10, 11, 12, 13, 14, 20, 24}\n",
      "{2, 3, 4, 5, 6, 7, 8, 9, 10, 11, 12, 13, 14, 20, 24}\n",
      "{2, 3, 4, 5, 6, 7, 8, 9, 10, 11, 12, 13, 14, 16, 20, 24}\n",
      "{2, 3, 4, 5, 6, 7, 8, 9, 10, 11, 12, 13, 14, 16, 20, 22, 24}\n",
      "{2, 3, 4, 5, 6, 7, 8, 9, 10, 11, 12, 13, 14, 16, 18, 20, 22, 24}\n",
      "{2, 3, 4, 5, 6, 7, 8, 9, 10, 11, 12, 13, 14, 16, 18, 19, 20, 21, 22, 24, 40}\n",
      "{2, 3, 4, 5, 6, 7, 8, 9, 10, 11, 12, 13, 14, 15, 16, 18, 19, 20, 21, 22, 24, 28, 40}\n",
      "{2, 3, 4, 5, 6, 7, 8, 9, 10, 11, 12, 13, 14, 15, 16, 18, 19, 20, 21, 22, 24, 26, 28, 40}\n",
      "{2, 3, 4, 5, 6, 7, 8, 9, 10, 11, 12, 13, 14, 15, 16, 18, 19, 20, 21, 22, 23, 24, 25, 26, 28, 40, 48}\n",
      "{1, 2, 3, 4, 5, 6, 7, 8, 9, 10, 11, 12, 13, 14, 15, 16, 18, 19, 20, 21, 22, 23, 24, 25, 26, 28, 40, 48}\n",
      "4\n"
     ]
    }
   ],
   "source": [
    "from collections import deque\n",
    "\n",
    "N,K=map(int,input().split())\n",
    "\n",
    "t=0\n",
    "q=deque()\n",
    "q.append((N,t))\n",
    "s=set()\n",
    "while q:\n",
    "    print(s)\n",
    "    x,t=q.popleft()\n",
    "    a,b,c,t=x+1,x-1,x*2,t+1\n",
    "    if K in (a,b,c):\n",
    "        print(t)\n",
    "        break\n",
    "    if not a in s: q.append((a,t)); s.add(a)\n",
    "    if not b in s: q.append((b,t)); s.add(b)  \n",
    "    if not c in s: q.append((c,t)); s.add(c)\n",
    "        \n"
   ]
  }
 ],
 "metadata": {
  "kernelspec": {
   "display_name": "Python 3",
   "language": "python",
   "name": "python3"
  },
  "language_info": {
   "codemirror_mode": {
    "name": "ipython",
    "version": 3
   },
   "file_extension": ".py",
   "mimetype": "text/x-python",
   "name": "python",
   "nbconvert_exporter": "python",
   "pygments_lexer": "ipython3",
   "version": "3.7.6"
  }
 },
 "nbformat": 4,
 "nbformat_minor": 4
}
