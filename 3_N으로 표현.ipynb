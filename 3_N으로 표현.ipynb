{
 "cells": [
  {
   "cell_type": "code",
   "execution_count": null,
   "metadata": {},
   "outputs": [],
   "source": [
    "#최종 제출 코드\n",
    "from collections import defaultdict\n",
    "\n",
    "def calcul(d,s1,s2):\n",
    "    for i in d[s1]:\n",
    "        for j in d[s2]:\n",
    "            d[s1+s2].add((i+j))\n",
    "            d[s1+s2].add((i-j))\n",
    "            d[s1+s2].add((i*j))\n",
    "            d[s1+s2].add((j-i))\n",
    "            if j!=0 and i!=0: \n",
    "                d[s1+s2].add((i//j))\n",
    "                d[s1+s2].add((j//i))\n",
    "    return d[s1+s2]\n",
    "\n",
    "def solution(N, number):\n",
    "    d=defaultdict(set)\n",
    "    d[1].add(N)\n",
    "    t=N\n",
    "    if number == N: return 1\n",
    "    else :\n",
    "        for i in range(2,9):\n",
    "            for j in range(1,i//2+1):\n",
    "                d[i]=calcul(d,j,i-j)\n",
    "            t=t*10+N\n",
    "            d[i].add((t))\n",
    "\n",
    "            if number in d[i]:\n",
    "                return i\n",
    "    return -1\n",
    "            \n",
    "            print(i,d)\n",
    "            print(\"_________________________________________________\")\n",
    "\n",
    "N=1  #answer = 2\n",
    "number=22\n",
    "# N=5  #answer = 4\n",
    "# number=12\n",
    "# N=2  #answer =3\n",
    "# number = 11\n",
    "solution(N,number)"
   ]
  },
  {
   "cell_type": "code",
   "execution_count": 59,
   "metadata": {},
   "outputs": [
    {
     "name": "stdout",
     "output_type": "stream",
     "text": [
      "2 {11}\n",
      "_________________________________________________\n",
      "3 {0, 10, 11, 12, 111, -10}\n",
      "_________________________________________________\n",
      "4 {0, 1, 9, 10, 11, 12, 13, 110, 111, 112, -110, -11, -10, -9, 1111, -1}\n",
      "_________________________________________________\n",
      "5 {0, 1, 2, 8, 9, 10, 11, 12, 13, 14, -111, -110, -109, -1110, 1110, 1111, 1112, 11111, 109, 110, 111, 112, 113, -12, -11, -10, -9, -8, -2, -1}\n",
      "_________________________________________________\n",
      "6 {0, 1, 2, 3, 7, 8, 9, 10, 11, 12, 13, 14, 15, -112, -111, -110, -109, -108, -11110, -1111, -1110, -1109, 111111, 1109, 1110, 1111, 1112, 1113, -7, 11110, 11111, 11112, 108, 109, 110, 111, 112, 113, 114, -13, -12, -11, -10, -9, -8, -2, -3, -1}\n",
      "_________________________________________________\n",
      "7 {0, 1, 2, 3, 4, 6, 7, 8, 9, 10, 11, 12, 13, 14, 15, -112, -111, -110, -109, -108, 16, -113, -107, -11111, -11110, -11109, -4, -1112, -1111, -1110, -1109, -1108, 111110, 111111, 111112, 1111111, -111110, 1108, 1109, 1110, 1111, 1112, 1113, 1114, -7, 11109, 11110, 11111, 11112, 11113, 107, 108, 109, 110, 111, 112, 113, 114, -13, -12, -11, -10, -9, -8, -2, -6, -14, 115, -3, -1}\n",
      "_________________________________________________\n",
      "8 {0, 1, 2, 3, 4, 5, 6, 7, 8, 9, 10, 11, 12, 13, 14, 15, 16, 17, 111113, 1111110, 1111111, 1111112, -111111, 1107, 1108, 1109, 1110, 1111, 1112, 1113, 1114, -111109, 1115, 106, 107, 108, 109, 110, 111, 112, 113, 114, 115, 116, -11112, -11111, -11110, -11109, -11108, 11111111, 11108, 11109, 11110, 11111, 11112, 11113, 11114, -114, -113, -112, -111, -110, -109, -108, -107, -106, -1113, -1112, -1111, -1110, -1109, -1108, -1107, 111109, 111110, 111111, 111112, -1111110, -6, -15, -14, -13, -12, -11, -10, -9, -8, -7, -111110, -5, -4, -3, -2, -1}\n",
      "_________________________________________________\n"
     ]
    },
    {
     "data": {
      "text/plain": [
       "-1"
      ]
     },
     "execution_count": 59,
     "metadata": {},
     "output_type": "execute_result"
    }
   ],
   "source": [
    "import copy\n",
    "\n",
    "def solution(N, number):\n",
    "    answer = 0\n",
    "    s=m=set()\n",
    "    t=N\n",
    "    if number == N: return 1\n",
    "    else :\n",
    "        for i in range(2,9):\n",
    "            m=copy.deepcopy(s)\n",
    "            for j in m:\n",
    "                s.add((j+N))\n",
    "                s.add((j-N))\n",
    "                s.add((j*N))\n",
    "                s.add((j//N))\n",
    "                s.add((N-j))\n",
    "                if j!=0: \n",
    "                    s.add((N//j))\n",
    "            t=t*10+N\n",
    "            s.add((t))\n",
    "            print(i,s)\n",
    "            print(\"_________________________________________________\")\n",
    "            if number in s:\n",
    "                return i\n",
    "    return -1\n",
    "\n",
    "\n",
    "N=1  #answer = 2\n",
    "number=22\n",
    "# N=5  #answer = 4\n",
    "# number=12\n",
    "# N=2  #answer =3\n",
    "# number = 11\n",
    "solution(N,number)"
   ]
  },
  {
   "cell_type": "code",
   "execution_count": 70,
   "metadata": {},
   "outputs": [
    {
     "name": "stdout",
     "output_type": "stream",
     "text": [
      "1 1\n",
      "2 defaultdict(<class 'set'>, {1: {1}, 2: {0, 1, 2, 11}})\n",
      "_________________________________________________\n",
      "1 2\n",
      "3 defaultdict(<class 'set'>, {1: {1}, 2: {0, 1, 2, 11}, 3: {0, 1, 2, 3, 10, 11, 12, 111, -10, -1}})\n",
      "_________________________________________________\n",
      "1 3\n",
      "2 2\n",
      "4 defaultdict(<class 'set'>, {1: {1}, 2: {0, 1, 2, 11}, 3: {0, 1, 2, 3, 10, 11, 12, 111, -10, -1}, 4: {0, 1, 2, 3, 4, 5, 9, 10, 11, 12, 13, -110, 22, 1111, 110, 111, 112, -11, -10, -9, -1, 121, -2}})\n",
      "_________________________________________________\n"
     ]
    },
    {
     "data": {
      "text/plain": [
       "4"
      ]
     },
     "execution_count": 70,
     "metadata": {},
     "output_type": "execute_result"
    }
   ],
   "source": [
    "#최종 제출 코드\n",
    "import copy\n",
    "from collections import defaultdict\n",
    "\n",
    "def calcul(d,s1,s2):\n",
    "    for i in d[s1]:\n",
    "        for j in d[s2]:\n",
    "            d[s1+s2].add((i+j))\n",
    "            d[s1+s2].add((i-j))\n",
    "            d[s1+s2].add((i*j))\n",
    "            d[s1+s2].add((j-i))\n",
    "            if j!=0 and i!=0: \n",
    "                d[s1+s2].add((i//j))\n",
    "                d[s1+s2].add((j//i))\n",
    "    return d[s1+s2]\n",
    "def solution(N, number):\n",
    "    answer = 0\n",
    "    d=defaultdict(set)\n",
    "    d[1].add(N)\n",
    "    t=N\n",
    "    if number == N: return 1\n",
    "    else :\n",
    "        for i in range(2,9):\n",
    "            for j in range(1,i//2+1):\n",
    "                d[i]=calcul(d,j,i-j)\n",
    "            t=t*10+N\n",
    "            d[i].add((t))\n",
    "\n",
    "            if number in d[i]:\n",
    "                return i\n",
    "    return -1\n",
    "            \n",
    "            print(i,d)\n",
    "            print(\"_________________________________________________\")\n",
    "\n",
    "N=1  #answer = 2\n",
    "number=22\n",
    "# N=5  #answer = 4\n",
    "# number=12\n",
    "# N=2  #answer =3\n",
    "# number = 11\n",
    "solution(N,number)"
   ]
  },
  {
   "cell_type": "code",
   "execution_count": 8,
   "metadata": {},
   "outputs": [
    {
     "name": "stdout",
     "output_type": "stream",
     "text": [
      "123\n",
      "4\n"
     ]
    }
   ],
   "source": [
    "a=1234\n",
    "print(a//10)\n",
    "print(a%10)"
   ]
  },
  {
   "cell_type": "code",
   "execution_count": 34,
   "metadata": {},
   "outputs": [
    {
     "data": {
      "text/plain": [
       "{1, 4}"
      ]
     },
     "execution_count": 34,
     "metadata": {},
     "output_type": "execute_result"
    }
   ],
   "source": [
    "a=b=set()\n",
    "a.add((1))\n",
    "b=a\n",
    "b.add((4))\n",
    "a"
   ]
  },
  {
   "cell_type": "code",
   "execution_count": 64,
   "metadata": {},
   "outputs": [
    {
     "data": {
      "text/plain": [
       "{1, 3, 4}"
      ]
     },
     "execution_count": 64,
     "metadata": {},
     "output_type": "execute_result"
    }
   ],
   "source": [
    "from collections import defaultdict\n",
    "\n",
    "k=defaultdict(set)\n",
    "k[1]=a\n",
    "k[1].add(3)\n",
    "k[1]"
   ]
  }
 ],
 "metadata": {
  "kernelspec": {
   "display_name": "Python 3",
   "language": "python",
   "name": "python3"
  },
  "language_info": {
   "codemirror_mode": {
    "name": "ipython",
    "version": 3
   },
   "file_extension": ".py",
   "mimetype": "text/x-python",
   "name": "python",
   "nbconvert_exporter": "python",
   "pygments_lexer": "ipython3",
   "version": "3.7.6"
  }
 },
 "nbformat": 4,
 "nbformat_minor": 4
}
