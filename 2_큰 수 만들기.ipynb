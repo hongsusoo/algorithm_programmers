{
 "cells": [
  {
   "cell_type": "code",
   "execution_count": null,
   "metadata": {},
   "outputs": [],
   "source": [
    "# 최종 제출 코드\n",
    "def solution(number, k):\n",
    "    answer=list(number[k:])\n",
    "    num=list(number[:k])\n",
    "    l=len(answer)\n",
    "    check = [i for i in range(l-1) if answer[i]<answer[i+1]]\n",
    "    if l==1: return max(number)\n",
    "    while num and answer: #k=l 같거나 K개 만큼 빼는동안 \n",
    "#         print(num,answer,check)\n",
    "        t=num.pop(-1)\n",
    "        if t>=answer[0]:\n",
    "            if check:\n",
    "                c=check.pop(0)\n",
    "                answer.pop(c)\n",
    "                answer.insert(0,t)\n",
    "                if c == 0 and t<answer[1]: check.insert(0,0)\n",
    "                if c !=0 and answer[c]<answer[c+1]: check.insert(0,c)\n",
    "            else : \n",
    "                answer.pop(-1)\n",
    "                answer.insert(0,t)\n",
    "#         print(\"--------------------------------------------------\")\n",
    "    return \"\".join(answer)\n",
    "\n",
    "# number=\"1231234\"\n",
    "# k=3\n",
    "# number=\"1924\"\n",
    "# k=2\n",
    "number=\"10000000\"\n",
    "k=2\n",
    "solution(number,k)"
   ]
  },
  {
   "cell_type": "code",
   "execution_count": null,
   "metadata": {},
   "outputs": [],
   "source": [
    "#다른 분 코드\n",
    "def solution(number, k):\n",
    "    stack = [number[0]]\n",
    "    for num in number[1:]:\n",
    "        while len(stack) > 0 and stack[-1] < num and k > 0:\n",
    "            k -= 1\n",
    "            stack.pop()\n",
    "        stack.append(num)\n",
    "    if k != 0:\n",
    "        stack = stack[:-k]\n",
    "    return ''.join(stack)"
   ]
  },
  {
   "cell_type": "code",
   "execution_count": 56,
   "metadata": {
    "scrolled": false
   },
   "outputs": [
    {
     "name": "stdout",
     "output_type": "stream",
     "text": [
      "1 7 3 \n",
      "1 7 3 \n",
      "1 7 3 \n",
      "2 6 3 \n",
      "2 6 3 \n",
      "2 6 3 \n",
      "3 5 3 \n",
      "3 5 3 \n",
      "3 5 3 \n",
      "1 4 2 3\n",
      "1 4 2 3\n",
      "2 3 2 3\n",
      "2 3 2 3\n",
      "3 2 2 3\n",
      "3 2 2 3\n",
      "4 1 2 3\n",
      "3234\n"
     ]
    }
   ],
   "source": [
    "def solution(number, k):\n",
    "    answer = ''\n",
    "    l = len(number)\n",
    "    num=number+\"0\"*k\n",
    "    for i in range(l):\n",
    "        t=0\n",
    "        for j in range(1,k+1):\n",
    "            if l-i<k:\n",
    "                answer+=number[l-k-1:]\n",
    "                break\n",
    "            if number[i]>=num[i+j]:\n",
    "                t+=1\n",
    "                if t==k:\n",
    "                    k-=1\n",
    "                    answer+=num[i]\n",
    "                    break\n",
    "    return answer\n",
    "\n",
    "number=\"1231234\"\n",
    "k=3\n",
    "print(solution(number,k))"
   ]
  },
  {
   "cell_type": "code",
   "execution_count": 177,
   "metadata": {},
   "outputs": [
    {
     "name": "stdout",
     "output_type": "stream",
     "text": [
      "841\n"
     ]
    }
   ],
   "source": [
    "def solution(number, k):\n",
    "    answer = ''\n",
    "    l = len(number)\n",
    "    answer = number[-l+k:]\n",
    "    for i in range(k-1,0,-1):\n",
    "        if answer[0]<=number[i]:\n",
    "            for j in range(0,l-k-1):\n",
    "                if answer[j]<answer[j+1]:\n",
    "                    answer=answer[:j]+answer[j+1:]\n",
    "                    break\n",
    "                elif j==l-k-2:\n",
    "                    answer=answer[0:-1]\n",
    "                    break\n",
    "            answer=number[i]+answer\n",
    "    return answer\n",
    "\n",
    "number=\"4177252841\"\n",
    "k=9\n",
    "# number=\"1924\"\n",
    "# k=2\n",
    "print(solution(number,k))"
   ]
  },
  {
   "cell_type": "code",
   "execution_count": 201,
   "metadata": {},
   "outputs": [
    {
     "name": "stdout",
     "output_type": "stream",
     "text": [
      "19\n",
      "94\n"
     ]
    }
   ],
   "source": [
    "def solution(number, k):\n",
    "    answer = ''\n",
    "    l = len(number)\n",
    "    answer = number[-l+k:]\n",
    "    num = number[:-l+k]\n",
    "    print(num)\n",
    "    al = len(answer)\n",
    "#     if l==k:\n",
    "#         return \"\"\n",
    "    for _ in range(k):\n",
    "        if answer[0]<=num[-1]:\n",
    "            if al>=2:\n",
    "                for j in range(al-1):\n",
    "                    if answer[j]<answer[j+1]:\n",
    "                        answer=answer[:j]+answer[j+1:]\n",
    "                        break\n",
    "                    if j == al-2:\n",
    "                        answer=answer[0:-1]\n",
    "                        break\n",
    "            else : answer=\"\"\n",
    "            answer=num[-1]+answer\n",
    "            num=num[0:-1]\n",
    "    return answer\n",
    "\n",
    "# number=\"4177252841\"\n",
    "# k=9\n",
    "number=\"1924\"\n",
    "k=2\n",
    "print(solution(number,k))"
   ]
  },
  {
   "cell_type": "code",
   "execution_count": 225,
   "metadata": {},
   "outputs": [
    {
     "name": "stdout",
     "output_type": "stream",
     "text": [
      "888\n"
     ]
    }
   ],
   "source": [
    "def solution(number, k):\n",
    "    answer = ''\n",
    "    l = len(number)\n",
    "\n",
    "    answer = number[-l+k:]\n",
    "    num = number[:-l+k]\n",
    "    al = len(answer)\n",
    "    if l==k: return \"\"\n",
    "    for _ in range(k):\n",
    "        if answer[0]<=num[-1]:\n",
    "            if al>=2:\n",
    "                for j in range(al-1):\n",
    "                    if answer[j]<answer[j+1]:\n",
    "                        answer=answer[:j]+answer[j+1:]\n",
    "                        break\n",
    "                    elif j == al-2:\n",
    "                        answer=answer[0:-1]\n",
    "                        break\n",
    "            else : answer=\"\"\n",
    "            answer=num[-1]+answer\n",
    "            num=num[0:-1]\n",
    "        else : \n",
    "            num=num[0:-1]\n",
    "    return answer\n",
    "\n",
    "# number=\"4177252841\"\n",
    "# k=9\n",
    "number=\"7581848\"\n",
    "k=4\n",
    "print(solution(number,k))"
   ]
  },
  {
   "cell_type": "code",
   "execution_count": 321,
   "metadata": {
    "scrolled": true
   },
   "outputs": [
    {
     "data": {
      "text/plain": [
       "'1114444'"
      ]
     },
     "execution_count": 321,
     "metadata": {},
     "output_type": "execute_result"
    }
   ],
   "source": [
    "def solution(number, k):\n",
    "    answer = ''\n",
    "    l = len(number)\n",
    "    number=list(number)\n",
    "    answer = number[-l+k:]\n",
    "    num = number[:-l+k]\n",
    "    al = l-k\n",
    "    c=[i for i in range(al-1) if answer[i]<answer[i+1]]\n",
    "    if l==k: return \"\"\n",
    "    for _ in range(k):\n",
    "        if answer[0]<=num[-1]:\n",
    "            if c :\n",
    "                t=c.pop(0)\n",
    "                if t>=1 and answer[t-1]<answer[t]: c.insert(0,t)\n",
    "            else :\n",
    "                t=answer.pop(-1)\n",
    "            p=num.pop(-1)\n",
    "            if answer and p<answer[0]: c.insert(0,0)\n",
    "            answer.insert(0,p)\n",
    "        else : \n",
    "            num.pop(-1)\n",
    "    return \"\".join(answer)\n",
    "\n",
    "number=\t\"1114444\"\n",
    "k= 1\n",
    "\n",
    "solution(number,k)"
   ]
  },
  {
   "cell_type": "code",
   "execution_count": 351,
   "metadata": {},
   "outputs": [
    {
     "data": {
      "text/plain": [
       "''"
      ]
     },
     "execution_count": 351,
     "metadata": {},
     "output_type": "execute_result"
    }
   ],
   "source": [
    "def solution(number, k):\n",
    "    answer = ''\n",
    "    answer=list(number)\n",
    "    l=len(answer)\n",
    "    p=1\n",
    "    if k==l: return \"\"\n",
    "    while k:\n",
    "        if answer[p-1]<answer[p]:\n",
    "            answer.pop(p-1)\n",
    "            k-=1\n",
    "            l-=1\n",
    "            if p>1: p-=1\n",
    "        elif answer[p-1]>=answer[p]: p+=1\n",
    "        elif p==l-1:\n",
    "            answer.pop(p)\n",
    "            k-=1\n",
    "            l-=1\n",
    "            p-=1\n",
    "    return \"\".join(answer)\n",
    "\n",
    "# number=\"4177252841\"\n",
    "# k=4\n",
    "number=\"1924\"\n",
    "k=4\n",
    "solution(number,k)"
   ]
  },
  {
   "cell_type": "code",
   "execution_count": 369,
   "metadata": {},
   "outputs": [
    {
     "data": {
      "text/plain": [
       "'924'"
      ]
     },
     "execution_count": 369,
     "metadata": {},
     "output_type": "execute_result"
    }
   ],
   "source": [
    "def solution(number, k):\n",
    "    \n",
    "    answer=list(number)\n",
    "    l=len(answer)\n",
    "    c=-1\n",
    "    t=0\n",
    "    for i in range(k):\n",
    "        for j in range(t,l-i-1):\n",
    "            if answer[j]<answer[j+1]: \n",
    "                answer.pop(c)\n",
    "                c=j\n",
    "                if j>=1: t=j-1\n",
    "                else : t=0\n",
    "                break\n",
    "        if c == -1:\n",
    "            answer.pop(-1)\n",
    "            continue\n",
    "        else :\n",
    "            \n",
    "    return \"\".join(answer)\n",
    "\n",
    "number=\"1924\"\n",
    "k=1\n",
    "solution(number,k)"
   ]
  },
  {
   "cell_type": "code",
   "execution_count": 401,
   "metadata": {},
   "outputs": [
    {
     "data": {
      "text/plain": [
       "'19242'"
      ]
     },
     "execution_count": 401,
     "metadata": {},
     "output_type": "execute_result"
    }
   ],
   "source": [
    "def solution(number, k):\n",
    "    \n",
    "    answer=list(number)\n",
    "    l=len(answer)\n",
    "    c=-1\n",
    "    t=0\n",
    "    for i in range(k):\n",
    "        for j in range(t,l-i-1):\n",
    "            if answer[j] < answer[j+1]:\n",
    "                answer.pop(j)\n",
    "                if j>=1: t=j-1\n",
    "                else : t=0\n",
    "                break\n",
    "            elif j==l-i-2:\n",
    "                answer.pop(-1) \n",
    "                break\n",
    "                \n",
    "    return \"\".join(answer)\n",
    "\n",
    "number=\"19242\"\n",
    "k=0\n",
    "solution(number,k)"
   ]
  },
  {
   "cell_type": "code",
   "execution_count": 422,
   "metadata": {
    "scrolled": true
   },
   "outputs": [
    {
     "name": "stdout",
     "output_type": "stream",
     "text": [
      "['4', '1', '7', '7', '2', '5', '2', '8', '4', '1'] 0 10\n",
      "['4', '1', '7', '7', '2', '5', '2', '8', '4', '1'] 1 10\n",
      "['4', '7', '7', '2', '5', '2', '8', '4', '1'] 0 9\n",
      "['7', '7', '2', '5', '2', '8', '4', '1'] 0 8\n",
      "['7', '7', '2', '5', '2', '8', '4', '1'] 1 8\n",
      "['7', '7', '2', '5', '2', '8', '4', '1'] 2 8\n",
      "['7', '7', '5', '2', '8', '4', '1'] 1 7\n",
      "['7', '7', '5', '2', '8', '4', '1'] 2 7\n",
      "['7', '7', '5', '2', '8', '4', '1'] 3 7\n",
      "['7', '7', '5', '8', '4', '1'] 2 6\n",
      "['7', '7', '8', '4', '1'] 1 5\n",
      "['7', '8', '4', '1'] 0 4\n",
      "['8', '4', '1'] 0 3\n",
      "['8', '4', '1'] 1 3\n",
      "['8', '4', '1'] 2 3\n",
      "['8', '4'] 1 2\n",
      "['8'] 0 1\n"
     ]
    },
    {
     "data": {
      "text/plain": [
       "''"
      ]
     },
     "execution_count": 422,
     "metadata": {},
     "output_type": "execute_result"
    }
   ],
   "source": [
    "def solution(number, k):\n",
    "    answer=list(number)\n",
    "    l=len(answer)\n",
    "    j=0\n",
    "    while k:\n",
    "        if j==l-1:\n",
    "            answer.pop(-1)\n",
    "            l-=1\n",
    "            k-=1\n",
    "            j=l-1\n",
    "            continue \n",
    "        elif answer[j] < answer[j+1]:\n",
    "            answer.pop(j)\n",
    "            l-=1\n",
    "            k-=1\n",
    "            if j>=1: j=j-1\n",
    "            else : j=0\n",
    "        else: j+=1\n",
    "    return \"\".join(answer)\n",
    "\n",
    "number=\"4177252841\"\n",
    "k=10\n",
    "solution(number,k)"
   ]
  },
  {
   "cell_type": "code",
   "execution_count": 443,
   "metadata": {
    "scrolled": true
   },
   "outputs": [
    {
     "name": "stdout",
     "output_type": "stream",
     "text": [
      "['4', '1', '7', '7', '2', '5', '2', '8', '4', '1']\n",
      "1 1 10 ['4', '1', '7', '7', '2', '5', '2', '8', '4', '1']\n",
      "____________________________________________________-\n",
      "['4', '7', '7', '2', '5', '2', '8', '4', '1']\n",
      "['7', '7', '2', '5', '2', '8', '4', '1']\n",
      "1 1 8 ['7', '7', '2', '5', '2', '8', '4', '1']\n",
      "1 2 8 ['7', '7', '2', '5', '2', '8', '4', '1']\n",
      "____________________________________________________-\n",
      "['7', '7', '5', '2', '8', '4', '1']\n",
      "2 2 7 ['7', '7', '5', '2', '8', '4', '1']\n",
      "2 3 7 ['7', '7', '5', '2', '8', '4', '1']\n",
      "____________________________________________________-\n",
      "['7', '7', '5', '8', '4', '1']\n",
      "3 3 6 ['7', '7', '5', '8', '4', '1']\n",
      "3 4 6 ['7', '7', '5', '8', '4', '1']\n",
      "____________________________________________________-\n",
      "['7', '7', '5', '8', '4', '1']\n",
      "4 4 6 ['7', '7', '5', '8', '4', '1']\n",
      "____________________________________________________-\n",
      "['7', '7', '5', '8', '4', '1']\n",
      "____________________________________________________-\n",
      "['7', '7', '5', '8', '4', '1']\n",
      "['7', '7', '5', '8', '4']\n",
      "['7', '7', '5', '8']\n",
      "['7', '7', '5']\n",
      "['7', '7']\n",
      "['7']\n"
     ]
    },
    {
     "data": {
      "text/plain": [
       "''"
      ]
     },
     "execution_count": 443,
     "metadata": {},
     "output_type": "execute_result"
    }
   ],
   "source": [
    "def solution(number, k):\n",
    "    answer=list(number)\n",
    "    l=len(answer)\n",
    "    t=j=0\n",
    "    while k:\n",
    "        print(answer)\n",
    "        if j==l-1:\n",
    "            answer.pop(-1)\n",
    "            l-=1\n",
    "            k-=1\n",
    "            j=l-1\n",
    "            continue \n",
    "        elif j==0 and answer[j] < answer[j+1]:\n",
    "            answer.pop(0)\n",
    "            l-=1\n",
    "            k-=1\n",
    "            continue\n",
    "        else : \n",
    "            j+=1\n",
    "            for o in range(j,l-1):\n",
    "                print(j,o,l, answer)\n",
    "                if answer[o] < answer[o+1]:\n",
    "                    answer.pop(o)\n",
    "                    l-=1\n",
    "                    k-=1\n",
    "                    j=o-1\n",
    "                    break\n",
    "\n",
    "        print(\"____________________________________________________-\")    \n",
    "    return \"\".join(answer)\n",
    "\n",
    "number=\"4177252841\"\n",
    "k=10\n",
    "solution(number,k)"
   ]
  },
  {
   "cell_type": "code",
   "execution_count": 495,
   "metadata": {
    "scrolled": true
   },
   "outputs": [
    {
     "name": "stdout",
     "output_type": "stream",
     "text": [
      "[0, 1]\n",
      "['1', '2', '3', '1']\n",
      "['2', '3', '1']\n",
      "['2', '1']\n",
      "['2', '2']\n",
      "['3', '2']\n",
      "['3']\n"
     ]
    },
    {
     "ename": "IndexError",
     "evalue": "list index out of range",
     "output_type": "error",
     "traceback": [
      "\u001b[1;31m---------------------------------------------------------------------------\u001b[0m",
      "\u001b[1;31mIndexError\u001b[0m                                Traceback (most recent call last)",
      "\u001b[1;32m<ipython-input-495-c0602f6202a6>\u001b[0m in \u001b[0;36m<module>\u001b[1;34m\u001b[0m\n\u001b[0;32m     29\u001b[0m \u001b[1;31m# number=\"4177252841\"\u001b[0m\u001b[1;33m\u001b[0m\u001b[1;33m\u001b[0m\u001b[1;33m\u001b[0m\u001b[0m\n\u001b[0;32m     30\u001b[0m \u001b[1;31m# k=4\u001b[0m\u001b[1;33m\u001b[0m\u001b[1;33m\u001b[0m\u001b[1;33m\u001b[0m\u001b[0m\n\u001b[1;32m---> 31\u001b[1;33m \u001b[0msolution\u001b[0m\u001b[1;33m(\u001b[0m\u001b[0mnumber\u001b[0m\u001b[1;33m,\u001b[0m\u001b[0mk\u001b[0m\u001b[1;33m)\u001b[0m\u001b[1;33m\u001b[0m\u001b[1;33m\u001b[0m\u001b[0m\n\u001b[0m",
      "\u001b[1;32m<ipython-input-495-c0602f6202a6>\u001b[0m in \u001b[0;36msolution\u001b[1;34m(number, k)\u001b[0m\n\u001b[0;32m     12\u001b[0m             \u001b[0manswer\u001b[0m\u001b[1;33m.\u001b[0m\u001b[0mpop\u001b[0m\u001b[1;33m(\u001b[0m\u001b[1;33m-\u001b[0m\u001b[1;36m1\u001b[0m\u001b[1;33m)\u001b[0m\u001b[1;33m\u001b[0m\u001b[1;33m\u001b[0m\u001b[0m\n\u001b[0;32m     13\u001b[0m             \u001b[0mn\u001b[0m\u001b[1;33m=\u001b[0m\u001b[0mnum\u001b[0m\u001b[1;33m.\u001b[0m\u001b[0mpop\u001b[0m\u001b[1;33m(\u001b[0m\u001b[1;36m0\u001b[0m\u001b[1;33m)\u001b[0m\u001b[1;33m\u001b[0m\u001b[1;33m\u001b[0m\u001b[0m\n\u001b[1;32m---> 14\u001b[1;33m             \u001b[1;32mif\u001b[0m \u001b[0manswer\u001b[0m\u001b[1;33m[\u001b[0m\u001b[1;33m-\u001b[0m\u001b[1;36m1\u001b[0m\u001b[1;33m]\u001b[0m\u001b[1;33m<\u001b[0m\u001b[0mn\u001b[0m\u001b[1;33m:\u001b[0m\u001b[1;33m\u001b[0m\u001b[1;33m\u001b[0m\u001b[0m\n\u001b[0m\u001b[0;32m     15\u001b[0m                 \u001b[0mcheck\u001b[0m\u001b[1;33m.\u001b[0m\u001b[0minsert\u001b[0m\u001b[1;33m(\u001b[0m\u001b[1;33m-\u001b[0m\u001b[1;36m1\u001b[0m\u001b[1;33m,\u001b[0m\u001b[1;33m-\u001b[0m\u001b[1;36m1\u001b[0m\u001b[1;33m)\u001b[0m\u001b[1;33m\u001b[0m\u001b[1;33m\u001b[0m\u001b[0m\n\u001b[0;32m     16\u001b[0m             \u001b[0manswer\u001b[0m\u001b[1;33m.\u001b[0m\u001b[0minsert\u001b[0m\u001b[1;33m(\u001b[0m\u001b[1;33m-\u001b[0m\u001b[1;36m1\u001b[0m\u001b[1;33m,\u001b[0m\u001b[0mn\u001b[0m\u001b[1;33m)\u001b[0m\u001b[1;33m\u001b[0m\u001b[1;33m\u001b[0m\u001b[0m\n",
      "\u001b[1;31mIndexError\u001b[0m: list index out of range"
     ]
    }
   ],
   "source": [
    "def solution(number, k):\n",
    "    answer=list(number[:-k])\n",
    "    num=list(number[-k:])\n",
    "    l=len(answer)\n",
    "    check = [i for i in range(l-1) if number[i]<number[i+1]]\n",
    "    print(check)\n",
    "    \n",
    "    j=0\n",
    "    while num:\n",
    "        print( answer)\n",
    "        if not check:\n",
    "            answer.pop(-1)\n",
    "            n=num.pop(0)\n",
    "            if answer[-1]<n:\n",
    "                check.insert(-1,-1)\n",
    "            answer.insert(-1,n)\n",
    "            continue \n",
    "        else:\n",
    "            t=check.pop(0)\n",
    "            answer.pop(t)\n",
    "            if t==0 : \n",
    "            \n",
    "            \n",
    "    return \"\".join(answer)\n",
    "\n",
    "number=\"1231234\"\n",
    "k=3\n",
    "# number=\"1924\"\n",
    "# k=2\n",
    "# number=\"4177252841\"\n",
    "# k=4\n",
    "solution(number,k)"
   ]
  },
  {
   "cell_type": "code",
   "execution_count": 518,
   "metadata": {
    "scrolled": true
   },
   "outputs": [
    {
     "name": "stdout",
     "output_type": "stream",
     "text": [
      "['1', '0'] ['0', '0', '0', '0', '0', '0'] []\n",
      "--------------------------------------------------\n",
      "['1'] ['0', '0', '0', '0', '0', '0'] []\n",
      "--------------------------------------------------\n"
     ]
    },
    {
     "data": {
      "text/plain": [
       "'100000'"
      ]
     },
     "execution_count": 518,
     "metadata": {},
     "output_type": "execute_result"
    }
   ],
   "source": [
    "def solution(number, k):\n",
    "    answer=list(number[k:])\n",
    "    num=list(number[:k])\n",
    "    l=len(answer)\n",
    "    check = [i for i in range(l-1) if answer[i]<answer[i+1]]\n",
    "    if l==1: return max(number)\n",
    "    while num and answer: #k=l 같거나 K개 만큼 빼는동안 \n",
    "        print(num,answer,check)\n",
    "        t=num.pop(-1)\n",
    "        if t>=answer[0]:\n",
    "            if check:\n",
    "                c=check.pop(0)\n",
    "                answer.pop(c)\n",
    "                answer.insert(0,t)\n",
    "                if c == 0 and t<answer[1]: check.insert(0,0)\n",
    "                if c !=0 and answer[c]<answer[c+1]: check.insert(0,c)\n",
    "            else : \n",
    "                answer.pop(-1)\n",
    "                answer.insert(0,t)\n",
    "        print(\"--------------------------------------------------\")\n",
    "    return \"\".join(answer)\n",
    "\n",
    "# number=\"1231234\"\n",
    "# k=3\n",
    "# number=\"1924\"\n",
    "# k=2\n",
    "number=\"10000000\"\n",
    "k=2\n",
    "solution(number,k)"
   ]
  },
  {
   "cell_type": "code",
   "execution_count": null,
   "metadata": {},
   "outputs": [],
   "source": [
    "def solution(number, k):\n",
    "    cnt=0\n",
    "    answer = ''\n",
    "    number = list(number)\n",
    "    answer = [number[0]]\n",
    "    for i in number[1:]:\n",
    "        # print(\"answer[] = {}\".format(answer))\n",
    "        if answer[-1]>=i:\n",
    "            if len(number)-k == 1:\n",
    "                answer = str(max(number))\n",
    "            else:\n",
    "                \n",
    "                answer.append(i)\n",
    "                if len(answer)==len(number)-k:\n",
    "                    break\n",
    "\n",
    "        else:\n",
    "            while answer[-1]<i and k>0:\n",
    "                k-=1\n",
    "                answer.pop(-1)\n",
    "                if len(answer) ==0:\n",
    "                    break\n",
    "            if len(number)-k == 1:\n",
    "                answer = str(max(number))\n",
    "            else:\n",
    "                answer.append(i)\n",
    "    answer = \"\".join(answer)\n",
    "    return answer\n",
    "# number=\"1231234\"\n",
    "# k=3\n",
    "# number=\"1924\"\n",
    "# k=2\n",
    "number=\"10000000\"\n",
    "k=2\n",
    "solution(number,k)"
   ]
  },
  {
   "cell_type": "code",
   "execution_count": 508,
   "metadata": {},
   "outputs": [
    {
     "data": {
      "text/plain": [
       "'4'"
      ]
     },
     "execution_count": 508,
     "metadata": {},
     "output_type": "execute_result"
    }
   ],
   "source": [
    "k=1\n",
    "number=\"1231234\"\n",
    "answer=max(number)\n",
    "answer"
   ]
  }
 ],
 "metadata": {
  "kernelspec": {
   "display_name": "Python 3",
   "language": "python",
   "name": "python3"
  },
  "language_info": {
   "codemirror_mode": {
    "name": "ipython",
    "version": 3
   },
   "file_extension": ".py",
   "mimetype": "text/x-python",
   "name": "python",
   "nbconvert_exporter": "python",
   "pygments_lexer": "ipython3",
   "version": "3.7.6"
  }
 },
 "nbformat": 4,
 "nbformat_minor": 4
}
