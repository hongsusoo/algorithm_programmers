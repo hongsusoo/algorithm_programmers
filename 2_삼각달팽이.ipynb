{
 "cells": [
  {
   "cell_type": "code",
   "execution_count": 17,
   "metadata": {},
   "outputs": [
    {
     "name": "stdout",
     "output_type": "stream",
     "text": [
      "5\n",
      "[[0, 0], [1, 0], [2, 0], [2, 1], [2, 3], [3, 0], [4, 0]]\n"
     ]
    }
   ],
   "source": [
    "import numpy as np\n",
    "\n",
    "a = [[4,0],[2,3],[2,1],[2,0],[3,0],[0,0],[1,0]]\n",
    "print(a.index([0,0]))\n",
    "print(sorted(a))"
   ]
  },
  {
   "cell_type": "code",
   "execution_count": 9,
   "metadata": {},
   "outputs": [
    {
     "ename": "IndexError",
     "evalue": "list assignment index out of range",
     "output_type": "error",
     "traceback": [
      "\u001b[1;31m---------------------------------------------------------------------------\u001b[0m",
      "\u001b[1;31mIndexError\u001b[0m                                Traceback (most recent call last)",
      "\u001b[1;32m<ipython-input-9-c397371d3336>\u001b[0m in \u001b[0;36m<module>\u001b[1;34m\u001b[0m\n\u001b[0;32m      1\u001b[0m \u001b[0mtemp_\u001b[0m\u001b[1;33m=\u001b[0m\u001b[1;33m[\u001b[0m\u001b[1;33m[\u001b[0m\u001b[1;33m]\u001b[0m\u001b[1;33m*\u001b[0m\u001b[1;36m16\u001b[0m\u001b[1;33m]\u001b[0m\u001b[1;33m\u001b[0m\u001b[1;33m\u001b[0m\u001b[0m\n\u001b[0;32m      2\u001b[0m \u001b[0mtemp_\u001b[0m\u001b[1;33m[\u001b[0m\u001b[1;36m0\u001b[0m\u001b[1;33m]\u001b[0m\u001b[1;33m=\u001b[0m\u001b[1;33m[\u001b[0m\u001b[1;36m1\u001b[0m\u001b[1;33m,\u001b[0m\u001b[1;36m0\u001b[0m\u001b[1;33m]\u001b[0m\u001b[1;33m\u001b[0m\u001b[1;33m\u001b[0m\u001b[0m\n\u001b[1;32m----> 3\u001b[1;33m \u001b[0mtemp_\u001b[0m\u001b[1;33m[\u001b[0m\u001b[1;36m1\u001b[0m\u001b[1;33m]\u001b[0m\u001b[1;33m=\u001b[0m\u001b[1;33m[\u001b[0m\u001b[1;36m2\u001b[0m\u001b[1;33m,\u001b[0m\u001b[1;36m0\u001b[0m\u001b[1;33m]\u001b[0m\u001b[1;33m\u001b[0m\u001b[1;33m\u001b[0m\u001b[0m\n\u001b[0m\u001b[0;32m      4\u001b[0m \u001b[0mprint\u001b[0m\u001b[1;33m(\u001b[0m\u001b[0mtemp_\u001b[0m\u001b[1;33m)\u001b[0m\u001b[1;33m\u001b[0m\u001b[1;33m\u001b[0m\u001b[0m\n",
      "\u001b[1;31mIndexError\u001b[0m: list assignment index out of range"
     ]
    }
   ],
   "source": [
    "temp_=[[]*16]\n",
    "temp_[0]=[1,0]\n",
    "temp_[1]=[2,0]\n",
    "print(temp_)"
   ]
  },
  {
   "cell_type": "code",
   "execution_count": 16,
   "metadata": {},
   "outputs": [
    {
     "name": "stdout",
     "output_type": "stream",
     "text": [
      "[[0, 0], [0, 0], [0, 0], [0, 0], [0, 0]]\n"
     ]
    },
    {
     "data": {
      "text/plain": [
       "0"
      ]
     },
     "execution_count": 16,
     "metadata": {},
     "output_type": "execute_result"
    }
   ],
   "source": [
    "temp=[[0]*2 for i in range(5)]\n",
    "print(temp)\n",
    "print(temp.index([0,0]))"
   ]
  },
  {
   "cell_type": "code",
   "execution_count": 21,
   "metadata": {},
   "outputs": [
    {
     "name": "stdout",
     "output_type": "stream",
     "text": [
      "range(5, 1)\n"
     ]
    }
   ],
   "source": [
    "print(range(5,1,1))\n",
    "for i in range(5,1):\n",
    "    print(i)"
   ]
  },
  {
   "cell_type": "markdown",
   "metadata": {},
   "source": [
    "1차 시도 시간 초과\n",
    "=> for문 하나 줄여보자"
   ]
  },
  {
   "cell_type": "code",
   "execution_count": 97,
   "metadata": {},
   "outputs": [
    {
     "data": {
      "text/plain": [
       "[1, 2, 12, 3, 13, 11, 4, 14, 15, 10, 5, 6, 7, 8, 9]"
      ]
     },
     "execution_count": 97,
     "metadata": {},
     "output_type": "execute_result"
    }
   ],
   "source": [
    "def solution(n):\n",
    "    \n",
    "    k = n*(n+1)/2\n",
    "    l = {0 :[1,0], 1:[0,1], 2:[-1,-1]} # 0 => (+1,0) / 1=> (0,+1) / 2 =>(-1,-1)\n",
    "    flow_list = [[]]\n",
    "    cng_time = n #방향이 바뀌는 시점\n",
    "    cng_vect = 0\n",
    "    plc_vect = [0,0] #현재 벡터    \n",
    "    answer = []\n",
    "    \n",
    "    for i in range(int(k)):\n",
    "        flow_list.append([plc_vect[0], plc_vect[1]])\n",
    "        if i == (cng_time-1):\n",
    "            cng_time = i + n - cng_vect\n",
    "            cng_vect += 1\n",
    "        plc_vect[0] += l[cng_vect%3][0]\n",
    "        plc_vect[1] += l[cng_vect%3][1]\n",
    "        \n",
    "    temp=sorted(flow_list)\n",
    "    \n",
    "    for i in temp:\n",
    "        p=flow_list.index(i)+1\n",
    "        answer.append(p)\n",
    "        \n",
    "    return answer\n",
    "\n",
    "solution(5)\n",
    "\n"
   ]
  },
  {
   "cell_type": "code",
   "execution_count": 75,
   "metadata": {},
   "outputs": [
    {
     "data": {
      "text/plain": [
       "0"
      ]
     },
     "execution_count": 75,
     "metadata": {},
     "output_type": "execute_result"
    }
   ],
   "source": [
    "a=[[0,0]]\n",
    "a.append([1,0])\n",
    "a\n",
    "a.append([2,0])\n",
    "a\n",
    "a.index([0,0])"
   ]
  },
  {
   "cell_type": "code",
   "execution_count": 102,
   "metadata": {},
   "outputs": [
    {
     "data": {
      "text/plain": [
       "[1, 2, 12, 3, 13, 11, 4, 14, 15, 10, 5, 6, 7, 8, 9]"
      ]
     },
     "execution_count": 102,
     "metadata": {},
     "output_type": "execute_result"
    }
   ],
   "source": [
    "def solution(n):\n",
    "    \n",
    "    k = n*(n+1)/2\n",
    "    l = {0 :[1,0], 1:[0,1], 2:[-1,-1]} # 0 => (+1,0) / 1=> (0,+1) / 2 =>(-1,-1)\n",
    "    flow_list = [0 for i in range(int(k))]\n",
    "    cng_time = n #방향이 바뀌는 시점\n",
    "    cng_vect = 0\n",
    "    plc_vect = [0,0] #현재 벡터    \n",
    "\n",
    "    \n",
    "    for i in range(int(k)):\n",
    "        \n",
    "        p = plc_vect[0]*(plc_vect[0]+1)/2+plc_vect[1]\n",
    "        flow_list[int(p)]=(i+1)\n",
    "        \n",
    "        if i == (cng_time-1):\n",
    "            cng_time = i + n - cng_vect\n",
    "            cng_vect += 1\n",
    "        plc_vect[0] += l[cng_vect%3][0]\n",
    "        plc_vect[1] += l[cng_vect%3][1]\n",
    "    \n",
    "    return flow_list\n",
    "\n",
    "solution(5)\n"
   ]
  },
  {
   "cell_type": "code",
   "execution_count": null,
   "metadata": {},
   "outputs": [],
   "source": []
  }
 ],
 "metadata": {
  "kernelspec": {
   "display_name": "Python 3",
   "language": "python",
   "name": "python3"
  },
  "language_info": {
   "codemirror_mode": {
    "name": "ipython",
    "version": 3
   },
   "file_extension": ".py",
   "mimetype": "text/x-python",
   "name": "python",
   "nbconvert_exporter": "python",
   "pygments_lexer": "ipython3",
   "version": "3.7.6"
  }
 },
 "nbformat": 4,
 "nbformat_minor": 4
}
